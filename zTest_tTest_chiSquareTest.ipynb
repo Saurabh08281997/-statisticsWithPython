{
  "cells": [
    {
      "cell_type": "code",
      "execution_count": 1,
      "id": "a09bd851",
      "metadata": {
        "id": "a09bd851",
        "outputId": "a995119d-5a5b-4012-d84d-2fc32ba2ce43",
        "colab": {
          "base_uri": "https://localhost:8080/",
          "height": 35
        }
      },
      "outputs": [
        {
          "output_type": "execute_result",
          "data": {
            "text/plain": [
              "'1 how to check the normality of the data\\n2. z test\\n3. t test\\n4. chi squre test\\n5 anova test'"
            ],
            "application/vnd.google.colaboratory.intrinsic+json": {
              "type": "string"
            }
          },
          "metadata": {},
          "execution_count": 1
        }
      ],
      "source": [
        "'''1 how to check the normality of the data\n",
        "2. z test\n",
        "3. t test\n",
        "4. chi squre test\n",
        "5 anova test'''"
      ]
    },
    {
      "cell_type": "code",
      "execution_count": 2,
      "id": "b85b3c76",
      "metadata": {
        "id": "b85b3c76"
      },
      "outputs": [],
      "source": [
        "#import the dataset\n",
        "import pandas as pd\n",
        "data=pd.read_csv(\"https://raw.githubusercontent.com/Saurabh08281997/statisticsWithPython/main/winequality-red.csv\",sep=';')"
      ]
    },
    {
      "cell_type": "code",
      "execution_count": 3,
      "id": "0d8e1bf4",
      "metadata": {
        "id": "0d8e1bf4",
        "outputId": "c80275a6-8d57-44b0-cf20-8f742bb09945",
        "colab": {
          "base_uri": "https://localhost:8080/",
          "height": 250
        }
      },
      "outputs": [
        {
          "output_type": "execute_result",
          "data": {
            "text/plain": [
              "   fixed acidity  volatile acidity  citric acid  residual sugar  chlorides  \\\n",
              "0            7.4              0.70         0.00             1.9      0.076   \n",
              "1            7.8              0.88         0.00             2.6      0.098   \n",
              "2            7.8              0.76         0.04             2.3      0.092   \n",
              "3           11.2              0.28         0.56             1.9      0.075   \n",
              "4            7.4              0.70         0.00             1.9      0.076   \n",
              "\n",
              "   free sulfur dioxide  total sulfur dioxide  density    pH  sulphates  \\\n",
              "0                 11.0                  34.0   0.9978  3.51       0.56   \n",
              "1                 25.0                  67.0   0.9968  3.20       0.68   \n",
              "2                 15.0                  54.0   0.9970  3.26       0.65   \n",
              "3                 17.0                  60.0   0.9980  3.16       0.58   \n",
              "4                 11.0                  34.0   0.9978  3.51       0.56   \n",
              "\n",
              "   alcohol  quality  \n",
              "0      9.4        5  \n",
              "1      9.8        5  \n",
              "2      9.8        5  \n",
              "3      9.8        6  \n",
              "4      9.4        5  "
            ],
            "text/html": [
              "\n",
              "  <div id=\"df-0c9b96a4-8e56-496b-a70e-a647b8f3e12e\">\n",
              "    <div class=\"colab-df-container\">\n",
              "      <div>\n",
              "<style scoped>\n",
              "    .dataframe tbody tr th:only-of-type {\n",
              "        vertical-align: middle;\n",
              "    }\n",
              "\n",
              "    .dataframe tbody tr th {\n",
              "        vertical-align: top;\n",
              "    }\n",
              "\n",
              "    .dataframe thead th {\n",
              "        text-align: right;\n",
              "    }\n",
              "</style>\n",
              "<table border=\"1\" class=\"dataframe\">\n",
              "  <thead>\n",
              "    <tr style=\"text-align: right;\">\n",
              "      <th></th>\n",
              "      <th>fixed acidity</th>\n",
              "      <th>volatile acidity</th>\n",
              "      <th>citric acid</th>\n",
              "      <th>residual sugar</th>\n",
              "      <th>chlorides</th>\n",
              "      <th>free sulfur dioxide</th>\n",
              "      <th>total sulfur dioxide</th>\n",
              "      <th>density</th>\n",
              "      <th>pH</th>\n",
              "      <th>sulphates</th>\n",
              "      <th>alcohol</th>\n",
              "      <th>quality</th>\n",
              "    </tr>\n",
              "  </thead>\n",
              "  <tbody>\n",
              "    <tr>\n",
              "      <th>0</th>\n",
              "      <td>7.4</td>\n",
              "      <td>0.70</td>\n",
              "      <td>0.00</td>\n",
              "      <td>1.9</td>\n",
              "      <td>0.076</td>\n",
              "      <td>11.0</td>\n",
              "      <td>34.0</td>\n",
              "      <td>0.9978</td>\n",
              "      <td>3.51</td>\n",
              "      <td>0.56</td>\n",
              "      <td>9.4</td>\n",
              "      <td>5</td>\n",
              "    </tr>\n",
              "    <tr>\n",
              "      <th>1</th>\n",
              "      <td>7.8</td>\n",
              "      <td>0.88</td>\n",
              "      <td>0.00</td>\n",
              "      <td>2.6</td>\n",
              "      <td>0.098</td>\n",
              "      <td>25.0</td>\n",
              "      <td>67.0</td>\n",
              "      <td>0.9968</td>\n",
              "      <td>3.20</td>\n",
              "      <td>0.68</td>\n",
              "      <td>9.8</td>\n",
              "      <td>5</td>\n",
              "    </tr>\n",
              "    <tr>\n",
              "      <th>2</th>\n",
              "      <td>7.8</td>\n",
              "      <td>0.76</td>\n",
              "      <td>0.04</td>\n",
              "      <td>2.3</td>\n",
              "      <td>0.092</td>\n",
              "      <td>15.0</td>\n",
              "      <td>54.0</td>\n",
              "      <td>0.9970</td>\n",
              "      <td>3.26</td>\n",
              "      <td>0.65</td>\n",
              "      <td>9.8</td>\n",
              "      <td>5</td>\n",
              "    </tr>\n",
              "    <tr>\n",
              "      <th>3</th>\n",
              "      <td>11.2</td>\n",
              "      <td>0.28</td>\n",
              "      <td>0.56</td>\n",
              "      <td>1.9</td>\n",
              "      <td>0.075</td>\n",
              "      <td>17.0</td>\n",
              "      <td>60.0</td>\n",
              "      <td>0.9980</td>\n",
              "      <td>3.16</td>\n",
              "      <td>0.58</td>\n",
              "      <td>9.8</td>\n",
              "      <td>6</td>\n",
              "    </tr>\n",
              "    <tr>\n",
              "      <th>4</th>\n",
              "      <td>7.4</td>\n",
              "      <td>0.70</td>\n",
              "      <td>0.00</td>\n",
              "      <td>1.9</td>\n",
              "      <td>0.076</td>\n",
              "      <td>11.0</td>\n",
              "      <td>34.0</td>\n",
              "      <td>0.9978</td>\n",
              "      <td>3.51</td>\n",
              "      <td>0.56</td>\n",
              "      <td>9.4</td>\n",
              "      <td>5</td>\n",
              "    </tr>\n",
              "  </tbody>\n",
              "</table>\n",
              "</div>\n",
              "      <button class=\"colab-df-convert\" onclick=\"convertToInteractive('df-0c9b96a4-8e56-496b-a70e-a647b8f3e12e')\"\n",
              "              title=\"Convert this dataframe to an interactive table.\"\n",
              "              style=\"display:none;\">\n",
              "        \n",
              "  <svg xmlns=\"http://www.w3.org/2000/svg\" height=\"24px\"viewBox=\"0 0 24 24\"\n",
              "       width=\"24px\">\n",
              "    <path d=\"M0 0h24v24H0V0z\" fill=\"none\"/>\n",
              "    <path d=\"M18.56 5.44l.94 2.06.94-2.06 2.06-.94-2.06-.94-.94-2.06-.94 2.06-2.06.94zm-11 1L8.5 8.5l.94-2.06 2.06-.94-2.06-.94L8.5 2.5l-.94 2.06-2.06.94zm10 10l.94 2.06.94-2.06 2.06-.94-2.06-.94-.94-2.06-.94 2.06-2.06.94z\"/><path d=\"M17.41 7.96l-1.37-1.37c-.4-.4-.92-.59-1.43-.59-.52 0-1.04.2-1.43.59L10.3 9.45l-7.72 7.72c-.78.78-.78 2.05 0 2.83L4 21.41c.39.39.9.59 1.41.59.51 0 1.02-.2 1.41-.59l7.78-7.78 2.81-2.81c.8-.78.8-2.07 0-2.86zM5.41 20L4 18.59l7.72-7.72 1.47 1.35L5.41 20z\"/>\n",
              "  </svg>\n",
              "      </button>\n",
              "      \n",
              "  <style>\n",
              "    .colab-df-container {\n",
              "      display:flex;\n",
              "      flex-wrap:wrap;\n",
              "      gap: 12px;\n",
              "    }\n",
              "\n",
              "    .colab-df-convert {\n",
              "      background-color: #E8F0FE;\n",
              "      border: none;\n",
              "      border-radius: 50%;\n",
              "      cursor: pointer;\n",
              "      display: none;\n",
              "      fill: #1967D2;\n",
              "      height: 32px;\n",
              "      padding: 0 0 0 0;\n",
              "      width: 32px;\n",
              "    }\n",
              "\n",
              "    .colab-df-convert:hover {\n",
              "      background-color: #E2EBFA;\n",
              "      box-shadow: 0px 1px 2px rgba(60, 64, 67, 0.3), 0px 1px 3px 1px rgba(60, 64, 67, 0.15);\n",
              "      fill: #174EA6;\n",
              "    }\n",
              "\n",
              "    [theme=dark] .colab-df-convert {\n",
              "      background-color: #3B4455;\n",
              "      fill: #D2E3FC;\n",
              "    }\n",
              "\n",
              "    [theme=dark] .colab-df-convert:hover {\n",
              "      background-color: #434B5C;\n",
              "      box-shadow: 0px 1px 3px 1px rgba(0, 0, 0, 0.15);\n",
              "      filter: drop-shadow(0px 1px 2px rgba(0, 0, 0, 0.3));\n",
              "      fill: #FFFFFF;\n",
              "    }\n",
              "  </style>\n",
              "\n",
              "      <script>\n",
              "        const buttonEl =\n",
              "          document.querySelector('#df-0c9b96a4-8e56-496b-a70e-a647b8f3e12e button.colab-df-convert');\n",
              "        buttonEl.style.display =\n",
              "          google.colab.kernel.accessAllowed ? 'block' : 'none';\n",
              "\n",
              "        async function convertToInteractive(key) {\n",
              "          const element = document.querySelector('#df-0c9b96a4-8e56-496b-a70e-a647b8f3e12e');\n",
              "          const dataTable =\n",
              "            await google.colab.kernel.invokeFunction('convertToInteractive',\n",
              "                                                     [key], {});\n",
              "          if (!dataTable) return;\n",
              "\n",
              "          const docLinkHtml = 'Like what you see? Visit the ' +\n",
              "            '<a target=\"_blank\" href=https://colab.research.google.com/notebooks/data_table.ipynb>data table notebook</a>'\n",
              "            + ' to learn more about interactive tables.';\n",
              "          element.innerHTML = '';\n",
              "          dataTable['output_type'] = 'display_data';\n",
              "          await google.colab.output.renderOutput(dataTable, element);\n",
              "          const docLink = document.createElement('div');\n",
              "          docLink.innerHTML = docLinkHtml;\n",
              "          element.appendChild(docLink);\n",
              "        }\n",
              "      </script>\n",
              "    </div>\n",
              "  </div>\n",
              "  "
            ]
          },
          "metadata": {},
          "execution_count": 3
        }
      ],
      "source": [
        "data.head()"
      ]
    },
    {
      "cell_type": "code",
      "execution_count": 4,
      "id": "cddae1da",
      "metadata": {
        "id": "cddae1da",
        "outputId": "8aa47a5d-aae6-4f3f-b550-4cbd78084eb4",
        "colab": {
          "base_uri": "https://localhost:8080/"
        }
      },
      "outputs": [
        {
          "output_type": "execute_result",
          "data": {
            "text/plain": [
              "0       0.700\n",
              "1       0.880\n",
              "2       0.760\n",
              "3       0.280\n",
              "4       0.700\n",
              "        ...  \n",
              "1594    0.600\n",
              "1595    0.550\n",
              "1596    0.510\n",
              "1597    0.645\n",
              "1598    0.310\n",
              "Name: volatile acidity, Length: 1599, dtype: float64"
            ]
          },
          "metadata": {},
          "execution_count": 4
        }
      ],
      "source": [
        "data['volatile acidity']"
      ]
    },
    {
      "cell_type": "code",
      "execution_count": 5,
      "id": "4c12b8e6",
      "metadata": {
        "id": "4c12b8e6",
        "outputId": "ed3f072d-c46f-41b3-e8b6-304f8acd2642",
        "colab": {
          "base_uri": "https://localhost:8080/",
          "height": 487
        }
      },
      "outputs": [
        {
          "output_type": "stream",
          "name": "stderr",
          "text": [
            "<ipython-input-5-46183321733f>:2: UserWarning: \n",
            "\n",
            "`distplot` is a deprecated function and will be removed in seaborn v0.14.0.\n",
            "\n",
            "Please adapt your code to use either `displot` (a figure-level function with\n",
            "similar flexibility) or `histplot` (an axes-level function for histograms).\n",
            "\n",
            "For a guide to updating your code to use the new functions, please see\n",
            "https://gist.github.com/mwaskom/de44147ed2974457ad6372750bbe5751\n",
            "\n",
            "  sns.distplot(data['volatile acidity'],kde=True)\n"
          ]
        },
        {
          "output_type": "execute_result",
          "data": {
            "text/plain": [
              "<Axes: xlabel='volatile acidity', ylabel='Density'>"
            ]
          },
          "metadata": {},
          "execution_count": 5
        },
        {
          "output_type": "display_data",
          "data": {
            "text/plain": [
              "<Figure size 432x288 with 1 Axes>"
            ],
            "image/png": "[encoded data removed]"
          },
          "metadata": {
            "needs_background": "light"
          }
        }
      ],
      "source": [
        "import seaborn as sns\n",
        "sns.distplot(data['volatile acidity'],kde=True)"
      ]
    },
    {
      "cell_type": "code",
      "execution_count": 6,
      "id": "3c212273",
      "metadata": {
        "id": "3c212273",
        "outputId": "e87d2134-78a9-4479-ae55-d06bbb26b912",
        "colab": {
          "base_uri": "https://localhost:8080/",
          "height": 487
        }
      },
      "outputs": [
        {
          "output_type": "stream",
          "name": "stderr",
          "text": [
            "<ipython-input-6-56c27c2b728b>:2: UserWarning: \n",
            "\n",
            "`distplot` is a deprecated function and will be removed in seaborn v0.14.0.\n",
            "\n",
            "Please adapt your code to use either `displot` (a figure-level function with\n",
            "similar flexibility) or `histplot` (an axes-level function for histograms).\n",
            "\n",
            "For a guide to updating your code to use the new functions, please see\n",
            "https://gist.github.com/mwaskom/de44147ed2974457ad6372750bbe5751\n",
            "\n",
            "  sns.distplot(data['citric acid'],kde=True,color='red')\n"
          ]
        },
        {
          "output_type": "execute_result",
          "data": {
            "text/plain": [
              "<Axes: xlabel='citric acid', ylabel='Density'>"
            ]
          },
          "metadata": {},
          "execution_count": 6
        },
        {
          "output_type": "display_data",
          "data": {
            "text/plain": [
              "<Figure size 432x288 with 1 Axes>"
            ],
            "image/png": "[encoded data removed]"
          },
          "metadata": {
            "needs_background": "light"
          }
        }
      ],
      "source": [
        "import seaborn as sns\n",
        "sns.distplot(data['citric acid'],kde=True,color='red')"
      ]
    },
    {
      "cell_type": "code",
      "execution_count": 7,
      "id": "0d1b1054",
      "metadata": {
        "id": "0d1b1054",
        "outputId": "7ade6674-59d7-4db0-d4ab-f3c16d6202df",
        "colab": {
          "base_uri": "https://localhost:8080/"
        }
      },
      "outputs": [
        {
          "output_type": "execute_result",
          "data": {
            "text/plain": [
              "ShapiroResult(statistic=0.9743338823318481, pvalue=2.686385373947307e-16)"
            ]
          },
          "metadata": {},
          "execution_count": 7
        }
      ],
      "source": [
        "from scipy import stats\n",
        "stats.shapiro(data['volatile acidity'])"
      ]
    },
    {
      "cell_type": "code",
      "execution_count": 8,
      "id": "0a8df64a",
      "metadata": {
        "id": "0a8df64a",
        "outputId": "b69a7c32-b77c-49f5-f5de-84ffc5360b87",
        "colab": {
          "base_uri": "https://localhost:8080/"
        }
      },
      "outputs": [
        {
          "output_type": "execute_result",
          "data": {
            "text/plain": [
              "ShapiroResult(statistic=0.955294668674469, pvalue=1.0233944777578548e-21)"
            ]
          },
          "metadata": {},
          "execution_count": 8
        }
      ],
      "source": [
        "stats.shapiro(data['citric acid'])"
      ]
    },
    {
      "cell_type": "code",
      "execution_count": 9,
      "id": "98869837",
      "metadata": {
        "id": "98869837"
      },
      "outputs": [],
      "source": [
        "from numpy.random import randn\n",
        "mydata=randn(500)"
      ]
    },
    {
      "cell_type": "code",
      "execution_count": 10,
      "id": "cb8677b6",
      "metadata": {
        "scrolled": true,
        "id": "cb8677b6",
        "outputId": "ad9ef02b-ecb6-4112-d0a9-369ae8d2a641",
        "colab": {
          "base_uri": "https://localhost:8080/",
          "height": 473
        }
      },
      "outputs": [
        {
          "output_type": "stream",
          "name": "stderr",
          "text": [
            "<ipython-input-10-9375a77d2e7a>:1: UserWarning: \n",
            "\n",
            "`distplot` is a deprecated function and will be removed in seaborn v0.14.0.\n",
            "\n",
            "Please adapt your code to use either `displot` (a figure-level function with\n",
            "similar flexibility) or `histplot` (an axes-level function for histograms).\n",
            "\n",
            "For a guide to updating your code to use the new functions, please see\n",
            "https://gist.github.com/mwaskom/de44147ed2974457ad6372750bbe5751\n",
            "\n",
            "  sns.distplot(mydata)\n"
          ]
        },
        {
          "output_type": "execute_result",
          "data": {
            "text/plain": [
              "<Axes: ylabel='Density'>"
            ]
          },
          "metadata": {},
          "execution_count": 10
        },
        {
          "output_type": "display_data",
          "data": {
            "text/plain": [
              "<Figure size 432x288 with 1 Axes>"
            ],
            "image/png": "[encoded data removed]"
          },
          "metadata": {
            "needs_background": "light"
          }
        }
      ],
      "source": [
        "sns.distplot(mydata)"
      ]
    },
    {
      "cell_type": "code",
      "execution_count": 11,
      "id": "0587771f",
      "metadata": {
        "id": "0587771f"
      },
      "outputs": [],
      "source": [
        "result=stats.shapiro(mydata)"
      ]
    },
    {
      "cell_type": "code",
      "execution_count": 12,
      "id": "428ae228",
      "metadata": {
        "id": "428ae228",
        "outputId": "6650e4d0-27c3-40cd-c73a-d61fca8e19cd",
        "colab": {
          "base_uri": "https://localhost:8080/"
        }
      },
      "outputs": [
        {
          "output_type": "execute_result",
          "data": {
            "text/plain": [
              "ShapiroResult(statistic=0.9940639734268188, pvalue=0.048214614391326904)"
            ]
          },
          "metadata": {},
          "execution_count": 12
        }
      ],
      "source": [
        "result"
      ]
    },
    {
      "cell_type": "markdown",
      "id": "5d2b493c",
      "metadata": {
        "id": "5d2b493c"
      },
      "source": [
        "## what is my null hyphothesis?\n",
        "## null hypothesis that the data was drawn from a normal distribution."
      ]
    },
    {
      "cell_type": "code",
      "execution_count": 13,
      "id": "603e76be",
      "metadata": {
        "id": "603e76be",
        "outputId": "c190739c-4c0e-438b-cf4a-5afcef92ffa0",
        "colab": {
          "base_uri": "https://localhost:8080/"
        }
      },
      "outputs": [
        {
          "output_type": "stream",
          "name": "stdout",
          "text": [
            "reject the null hyphothesis\n"
          ]
        }
      ],
      "source": [
        "if result[1] <= 0.05:\n",
        "    print(\"reject the null hyphothesis\")\n",
        "else:\n",
        "    print(\"accept the null hyphothsis\")"
      ]
    },
    {
      "cell_type": "code",
      "execution_count": 14,
      "id": "e5afbc56",
      "metadata": {
        "id": "e5afbc56",
        "outputId": "17500dc0-106d-47c0-bade-e3b83739a61c",
        "colab": {
          "base_uri": "https://localhost:8080/"
        }
      },
      "outputs": [
        {
          "output_type": "execute_result",
          "data": {
            "text/plain": [
              "NormaltestResult(statistic=152.039214793795, pvalue=9.662822259281018e-34)"
            ]
          },
          "metadata": {},
          "execution_count": 14
        }
      ],
      "source": [
        "from scipy import stats\n",
        "stats.normaltest(data['citric acid'])"
      ]
    },
    {
      "cell_type": "code",
      "execution_count": 15,
      "id": "f742dd10",
      "metadata": {
        "id": "f742dd10",
        "outputId": "ccb75405-deb7-4d97-dbfe-4cc43a66cea2",
        "colab": {
          "base_uri": "https://localhost:8080/"
        }
      },
      "outputs": [
        {
          "output_type": "execute_result",
          "data": {
            "text/plain": [
              "NormaltestResult(statistic=7.774133045636903, pvalue=0.02050541004913961)"
            ]
          },
          "metadata": {},
          "execution_count": 15
        }
      ],
      "source": [
        "stats.normaltest(mydata)"
      ]
    },
    {
      "cell_type": "code",
      "execution_count": 16,
      "id": "2306f535",
      "metadata": {
        "id": "2306f535"
      },
      "outputs": [],
      "source": [
        "sample_mean_iq=110\n",
        "alpha=0.05\n",
        "#ci=95%"
      ]
    },
    {
      "cell_type": "code",
      "execution_count": 17,
      "id": "460b4f47",
      "metadata": {
        "id": "460b4f47"
      },
      "outputs": [],
      "source": [
        "mean_std_dev=15\n",
        "mean_population=100"
      ]
    },
    {
      "cell_type": "code",
      "execution_count": 18,
      "id": "3a68e4c1",
      "metadata": {
        "id": "3a68e4c1",
        "outputId": "501c3cfc-08c4-475c-8fb4-c9dcb7608c78",
        "colab": {
          "base_uri": "https://localhost:8080/"
        }
      },
      "outputs": [
        {
          "output_type": "execute_result",
          "data": {
            "text/plain": [
              "array([101.70964526,  98.80245789,  94.49564   ,  95.28408135,\n",
              "        93.59647838, 127.74995613, 118.71169896, 112.2440958 ,\n",
              "        91.76145465, 122.42597006, 118.47141984,  94.16560029,\n",
              "        84.45721863, 115.44422009, 122.94806171, 147.61966458,\n",
              "       113.86548681,  72.08464137,  95.29630621, 117.05136038,\n",
              "       109.00901837, 131.00766117,  85.46369429, 112.88722759,\n",
              "       130.61669978, 134.56805842,  98.1324299 , 108.97921366,\n",
              "       103.62904742, 109.08026136,  91.03127826, 106.00473337,\n",
              "        97.62026426, 116.52037881, 115.95787095, 110.28306381,\n",
              "       127.1957176 , 105.5966326 ,  98.5756365 , 126.14557467,\n",
              "       101.33599614, 110.6207311 , 120.63278147,  94.49615987,\n",
              "       109.3473396 ,  89.2776596 ,  99.95875371, 106.58079246,\n",
              "       127.09324949,  99.53621602])"
            ]
          },
          "metadata": {},
          "execution_count": 18
        }
      ],
      "source": [
        "mean_std_dev*randn(50)+sample_mean_iq"
      ]
    },
    {
      "cell_type": "code",
      "execution_count": 19,
      "id": "4fa7380b",
      "metadata": {
        "id": "4fa7380b"
      },
      "outputs": [],
      "source": [
        "data=mean_std_dev*randn(50)+mean_population"
      ]
    },
    {
      "cell_type": "code",
      "execution_count": 20,
      "id": "a7ea4389",
      "metadata": {
        "id": "a7ea4389",
        "outputId": "7123a48e-3a0a-44b3-c302-044a89852de8",
        "colab": {
          "base_uri": "https://localhost:8080/"
        }
      },
      "outputs": [
        {
          "output_type": "execute_result",
          "data": {
            "text/plain": [
              "100.82604667446135"
            ]
          },
          "metadata": {},
          "execution_count": 20
        }
      ],
      "source": [
        "import numpy as np\n",
        "np.mean(data)"
      ]
    },
    {
      "cell_type": "code",
      "execution_count": 21,
      "id": "7b28c0f5",
      "metadata": {
        "id": "7b28c0f5",
        "outputId": "195e40e2-c328-4dc6-e017-e126df895cc8",
        "colab": {
          "base_uri": "https://localhost:8080/"
        }
      },
      "outputs": [
        {
          "output_type": "execute_result",
          "data": {
            "text/plain": [
              "13.373552883268982"
            ]
          },
          "metadata": {},
          "execution_count": 21
        }
      ],
      "source": [
        "np.std(data)"
      ]
    },
    {
      "cell_type": "code",
      "execution_count": 22,
      "id": "68b9fed5",
      "metadata": {
        "id": "68b9fed5"
      },
      "outputs": [],
      "source": [
        "null_hyphothesis_value=100"
      ]
    },
    {
      "cell_type": "code",
      "execution_count": 23,
      "id": "b4756720",
      "metadata": {
        "id": "b4756720",
        "outputId": "de3f8fb4-6fd8-47df-8757-190d899aea2b",
        "colab": {
          "base_uri": "https://localhost:8080/"
        }
      },
      "outputs": [
        {
          "output_type": "execute_result",
          "data": {
            "text/plain": [
              "(0.4323702737560085, 0.3327361597853967)"
            ]
          },
          "metadata": {},
          "execution_count": 23
        }
      ],
      "source": [
        "from statsmodels.stats.weightstats import ztest\n",
        "ztest(data,value=null_hyphothesis_value,alternative='larger')"
      ]
    },
    {
      "cell_type": "code",
      "execution_count": 24,
      "id": "0acc0e03",
      "metadata": {
        "id": "0acc0e03",
        "outputId": "b2e3ac04-2a0a-48ab-bb15-6974fbd27937",
        "colab": {
          "base_uri": "https://localhost:8080/"
        }
      },
      "outputs": [
        {
          "output_type": "execute_result",
          "data": {
            "text/plain": [
              "array([103.33804908, 100.68935365,  95.00908311, 115.19755127,\n",
              "       112.71716247,  71.57228436, 114.41833564, 111.56893591,\n",
              "       107.12807323, 104.07141357,  90.82601425,  81.27661022,\n",
              "        74.4687452 , 104.65533877, 120.00055998, 100.77307687,\n",
              "       103.18686955,  85.28495915,  92.05146689, 128.7436056 ,\n",
              "        66.39682091, 111.46699803, 104.9483286 ,  79.50295   ,\n",
              "       100.54885408,  85.64847741, 109.87156808,  88.7186465 ,\n",
              "       110.13383907,  92.45283172,  97.60348133,  94.75352164,\n",
              "       101.62480721, 102.81873459, 120.46194011, 114.08397856,\n",
              "       110.10384786,  97.23346688,  83.77179295,  94.84581765,\n",
              "       108.53961803, 112.62584602, 106.23686512,  94.0082938 ,\n",
              "        91.43605075, 109.64990579,  97.24417746, 104.06960651,\n",
              "       104.73780471, 128.78597354])"
            ]
          },
          "metadata": {},
          "execution_count": 24
        }
      ],
      "source": [
        "data"
      ]
    },
    {
      "cell_type": "code",
      "execution_count": 25,
      "id": "1322328c",
      "metadata": {
        "id": "1322328c"
      },
      "outputs": [],
      "source": [
        "#t_test"
      ]
    },
    {
      "cell_type": "code",
      "execution_count": 26,
      "id": "ee007ec5",
      "metadata": {
        "id": "ee007ec5"
      },
      "outputs": [],
      "source": [
        "#ztest vs test\n",
        "#sample size less than 30\n",
        "#pop var/pop std won't be there"
      ]
    },
    {
      "cell_type": "code",
      "execution_count": 27,
      "id": "20c6a5c9",
      "metadata": {
        "id": "20c6a5c9",
        "outputId": "58a4bf2a-118e-4f9d-cb2d-b150167fd656",
        "colab": {
          "base_uri": "https://localhost:8080/",
          "height": 53
        }
      },
      "outputs": [
        {
          "output_type": "execute_result",
          "data": {
            "text/plain": [
              "'one-sample t test(with respect to one independent sample)\\ntwo-sample t test(with respect to two independent sample)\\npaired t-test(two sample from the sample population on different time interval)'"
            ],
            "application/vnd.google.colaboratory.intrinsic+json": {
              "type": "string"
            }
          },
          "metadata": {},
          "execution_count": 27
        }
      ],
      "source": [
        "'''one-sample t test(with respect to one independent sample)\n",
        "two-sample t test(with respect to two independent sample)\n",
        "paired t-test(two sample from the sample population on different time interval)'''"
      ]
    },
    {
      "cell_type": "code",
      "execution_count": 28,
      "id": "507a141a",
      "metadata": {
        "id": "507a141a",
        "outputId": "100349e7-c158-4b7b-a02d-66039e0921e7",
        "colab": {
          "base_uri": "https://localhost:8080/"
        }
      },
      "outputs": [
        {
          "output_type": "execute_result",
          "data": {
            "text/plain": [
              "array([46, 28, 11, 29, 47, 20, 14, 38, 34, 35, 36, 10, 27, 27, 23, 39, 25,\n",
              "       22, 48, 31, 12, 18, 31, 40, 49, 11, 13, 29, 11, 37, 44, 48, 40, 23,\n",
              "       34, 48, 32, 15, 23, 19, 45, 30, 23, 26, 45, 42, 15, 38, 45, 19])"
            ]
          },
          "metadata": {},
          "execution_count": 28
        }
      ],
      "source": [
        "import random\n",
        "import numpy as np\n",
        "np.random.randint(10,50,50)"
      ]
    },
    {
      "cell_type": "code",
      "execution_count": 29,
      "id": "71a7bb5a",
      "metadata": {
        "id": "71a7bb5a"
      },
      "outputs": [],
      "source": [
        "population=np.random.randint(10,50,50)"
      ]
    },
    {
      "cell_type": "code",
      "execution_count": 30,
      "id": "16e76ac5",
      "metadata": {
        "id": "16e76ac5"
      },
      "outputs": [],
      "source": [
        "sample1=np.random.choice(population,20)"
      ]
    },
    {
      "cell_type": "code",
      "execution_count": 31,
      "id": "3faf3c57",
      "metadata": {
        "id": "3faf3c57",
        "outputId": "28a9eba6-90d2-4ce5-dfc9-942e4fb3bdb1",
        "colab": {
          "base_uri": "https://localhost:8080/"
        }
      },
      "outputs": [
        {
          "output_type": "execute_result",
          "data": {
            "text/plain": [
              "array([48, 36, 35, 15, 18, 33, 36, 32, 33, 11, 14, 43, 14, 14, 36, 48, 48,\n",
              "       18, 21, 12])"
            ]
          },
          "metadata": {},
          "execution_count": 31
        }
      ],
      "source": [
        "sample1"
      ]
    },
    {
      "cell_type": "code",
      "execution_count": 32,
      "id": "92fdc305",
      "metadata": {
        "id": "92fdc305",
        "outputId": "9365793e-918f-491a-dcfe-83131a9dbbe1",
        "colab": {
          "base_uri": "https://localhost:8080/"
        }
      },
      "outputs": [
        {
          "output_type": "execute_result",
          "data": {
            "text/plain": [
              "28.25"
            ]
          },
          "metadata": {},
          "execution_count": 32
        }
      ],
      "source": [
        "sample1.mean()"
      ]
    },
    {
      "cell_type": "code",
      "execution_count": 33,
      "id": "19496e14",
      "metadata": {
        "id": "19496e14"
      },
      "outputs": [],
      "source": [
        "sample2=np.random.choice(population,20)"
      ]
    },
    {
      "cell_type": "code",
      "execution_count": 34,
      "id": "82d5e65f",
      "metadata": {
        "id": "82d5e65f",
        "outputId": "dd5c9303-8d2f-43de-a680-02bad708b35a",
        "colab": {
          "base_uri": "https://localhost:8080/"
        }
      },
      "outputs": [
        {
          "output_type": "execute_result",
          "data": {
            "text/plain": [
              "array([14, 30, 34, 36, 48, 35, 36, 28, 37, 28, 48, 32, 30, 21, 43, 47, 21,\n",
              "       32, 14, 35])"
            ]
          },
          "metadata": {},
          "execution_count": 34
        }
      ],
      "source": [
        "sample2"
      ]
    },
    {
      "cell_type": "code",
      "execution_count": 35,
      "id": "3303c910",
      "metadata": {
        "id": "3303c910",
        "outputId": "64418d77-d453-4675-ad6d-386a36ddd968",
        "colab": {
          "base_uri": "https://localhost:8080/"
        }
      },
      "outputs": [
        {
          "output_type": "execute_result",
          "data": {
            "text/plain": [
              "32.45"
            ]
          },
          "metadata": {},
          "execution_count": 35
        }
      ],
      "source": [
        "sample2.mean()"
      ]
    },
    {
      "cell_type": "code",
      "execution_count": 36,
      "id": "28eebe26",
      "metadata": {
        "id": "28eebe26"
      },
      "outputs": [],
      "source": [
        "my_cricket_score=[22, 38, 19, 15, 48, 11, 10, 49, 47, 38, 10, 25, 46, 10, 21, 24, 29,36, 25, 24]"
      ]
    },
    {
      "cell_type": "code",
      "execution_count": 37,
      "id": "795de800",
      "metadata": {
        "id": "795de800",
        "outputId": "dbdf748e-01a9-4272-8a16-ed3c8977baf1",
        "colab": {
          "base_uri": "https://localhost:8080/"
        }
      },
      "outputs": [
        {
          "output_type": "execute_result",
          "data": {
            "text/plain": [
              "27.35"
            ]
          },
          "metadata": {},
          "execution_count": 37
        }
      ],
      "source": [
        "np.mean(my_cricket_score)"
      ]
    },
    {
      "cell_type": "code",
      "execution_count": 38,
      "id": "ee022d36",
      "metadata": {
        "id": "ee022d36"
      },
      "outputs": [],
      "source": [
        "# null_hyphothesis=sample mean should be 27.35"
      ]
    },
    {
      "cell_type": "code",
      "execution_count": 39,
      "id": "9e2c69a2",
      "metadata": {
        "id": "9e2c69a2"
      },
      "outputs": [],
      "source": [
        "virat_cricket_score=[33, 45, 23, 25, 46, 46, 46, 49, 49, 14, 14, 44, 25, 31, 25, 40, 30,20, 42, 37]"
      ]
    },
    {
      "cell_type": "code",
      "execution_count": 40,
      "id": "56fd6d2a",
      "metadata": {
        "id": "56fd6d2a",
        "outputId": "77c5a6a2-93b9-4736-f956-8403ebe78efa",
        "colab": {
          "base_uri": "https://localhost:8080/"
        }
      },
      "outputs": [
        {
          "output_type": "execute_result",
          "data": {
            "text/plain": [
              "34.2"
            ]
          },
          "metadata": {},
          "execution_count": 40
        }
      ],
      "source": [
        "(sum(virat_cricket_score))/len(virat_cricket_score)"
      ]
    },
    {
      "cell_type": "code",
      "execution_count": 41,
      "id": "2bdeb0f6",
      "metadata": {
        "id": "2bdeb0f6",
        "outputId": "a3f8d37f-c036-4e4d-c021-5ce9c0e04e55",
        "colab": {
          "base_uri": "https://localhost:8080/"
        }
      },
      "outputs": [
        {
          "output_type": "execute_result",
          "data": {
            "text/plain": [
              "34.2"
            ]
          },
          "metadata": {},
          "execution_count": 41
        }
      ],
      "source": [
        "np.mean(virat_cricket_score)"
      ]
    },
    {
      "cell_type": "code",
      "execution_count": 42,
      "id": "c9f9a25d",
      "metadata": {
        "id": "c9f9a25d"
      },
      "outputs": [],
      "source": [
        "import scipy\n",
        "result=scipy.stats.ttest_1samp(my_cricket_score,15)"
      ]
    },
    {
      "cell_type": "code",
      "execution_count": 43,
      "id": "033d4805",
      "metadata": {
        "id": "033d4805",
        "outputId": "f4be2f4e-24f7-4e74-cc5d-2be1f8d7cfc6",
        "colab": {
          "base_uri": "https://localhost:8080/"
        }
      },
      "outputs": [
        {
          "output_type": "execute_result",
          "data": {
            "text/plain": [
              "0.0005939030580482863"
            ]
          },
          "metadata": {},
          "execution_count": 43
        }
      ],
      "source": [
        "result[1]"
      ]
    },
    {
      "cell_type": "code",
      "execution_count": 44,
      "id": "deb62d99",
      "metadata": {
        "id": "deb62d99"
      },
      "outputs": [],
      "source": [
        "# we are going to reject the null hyphothesis\n",
        "#p_value<=0.05"
      ]
    },
    {
      "cell_type": "code",
      "execution_count": 45,
      "id": "00f6ec44",
      "metadata": {
        "id": "00f6ec44"
      },
      "outputs": [],
      "source": [
        "#if P_value we are going to accept the null hyphgothesis\n",
        "#p_value>0.05"
      ]
    },
    {
      "cell_type": "code",
      "execution_count": 46,
      "id": "8744b02a",
      "metadata": {
        "id": "8744b02a",
        "outputId": "393f2774-c209-4996-9a8d-8a6224c660b2",
        "colab": {
          "base_uri": "https://localhost:8080/"
        }
      },
      "outputs": [
        {
          "output_type": "execute_result",
          "data": {
            "text/plain": [
              "TtestResult(statistic=0.11652110620241571, pvalue=0.9084623785416333, df=19)"
            ]
          },
          "metadata": {},
          "execution_count": 46
        }
      ],
      "source": [
        "scipy.stats.ttest_1samp(my_cricket_score,27)"
      ]
    },
    {
      "cell_type": "code",
      "execution_count": 47,
      "id": "70dc8250",
      "metadata": {
        "id": "70dc8250"
      },
      "outputs": [],
      "source": [
        "#two-sample t test(with respect to two independent sample)\n",
        "my_cricket_score=[22, 38, 19, 15, 48, 11, 10, 49, 47, 38, 10, 25, 46, 10, 21, 24, 29,36, 25, 24]\n",
        "\n",
        "virat_cricket_score=[33, 45, 23, 25, 46, 46, 46, 49, 49, 44, 44, 49, 25, 31, 25, 40, 30,20, 42, 37]\n"
      ]
    },
    {
      "cell_type": "code",
      "execution_count": 48,
      "id": "b4267228",
      "metadata": {
        "id": "b4267228"
      },
      "outputs": [],
      "source": [
        "first_sample_mean=np.mean(my_cricket_score)\n",
        "second_sample_mean=np.mean(virat_cricket_score)"
      ]
    },
    {
      "cell_type": "code",
      "execution_count": 49,
      "id": "3c75701e",
      "metadata": {
        "id": "3c75701e",
        "outputId": "b2020da5-5ccd-4076-be56-167b13ca9477",
        "colab": {
          "base_uri": "https://localhost:8080/"
        }
      },
      "outputs": [
        {
          "output_type": "stream",
          "name": "stdout",
          "text": [
            "27.35\n",
            "37.45\n"
          ]
        }
      ],
      "source": [
        "print(first_sample_mean)\n",
        "print(second_sample_mean)"
      ]
    },
    {
      "cell_type": "code",
      "execution_count": 50,
      "id": "50148882",
      "metadata": {
        "id": "50148882"
      },
      "outputs": [],
      "source": [
        "#my_null_hyphothsis=both sample mean will be same"
      ]
    },
    {
      "cell_type": "code",
      "execution_count": 51,
      "id": "c77c06df",
      "metadata": {
        "id": "c77c06df",
        "outputId": "c97e14d9-d1b2-4842-fa1f-f5d52c370237",
        "colab": {
          "base_uri": "https://localhost:8080/"
        }
      },
      "outputs": [
        {
          "output_type": "execute_result",
          "data": {
            "text/plain": [
              "Ttest_indResult(statistic=-2.7009890879565885, pvalue=0.010269464981935)"
            ]
          },
          "metadata": {},
          "execution_count": 51
        }
      ],
      "source": [
        "scipy.stats.ttest_ind(my_cricket_score,virat_cricket_score)"
      ]
    },
    {
      "cell_type": "code",
      "execution_count": 52,
      "id": "381dd08f",
      "metadata": {
        "id": "381dd08f"
      },
      "outputs": [],
      "source": [
        "# we are going to reject the null hyphothesis\n",
        "#p_value<=0.05\n",
        "#if P_value we are going to accept the null hyphgothesis\n",
        "#p_value>0.05"
      ]
    },
    {
      "cell_type": "code",
      "execution_count": 53,
      "id": "8bdf840b",
      "metadata": {
        "id": "8bdf840b"
      },
      "outputs": [],
      "source": [
        "#paired t-test(two sample from the sample population on different time interval)\n",
        "my_cricket_score_from_first_inning=[22, 38, 19, 15, 48, 11, 10, 49, 47, 38, 10, 25, 46, 10, 21, 24, 29,36, 25, 24]\n",
        "my_cricket_score_from_second_inning=[22, 38, 29, 15, 18, 11, 10, 49, 47, 38, 50, 45, 46, 40, 21, 24, 29,16, 25, 24]\n"
      ]
    },
    {
      "cell_type": "code",
      "execution_count": 54,
      "id": "f228eb82",
      "metadata": {
        "id": "f228eb82",
        "outputId": "b8179055-8310-4aca-aad5-b1e5417823a7",
        "colab": {
          "base_uri": "https://localhost:8080/"
        }
      },
      "outputs": [
        {
          "output_type": "stream",
          "name": "stdout",
          "text": [
            "27.35\n",
            "29.85\n"
          ]
        }
      ],
      "source": [
        "print(np.mean(my_cricket_score_from_first_inning))\n",
        "print(np.mean(my_cricket_score_from_second_inning))"
      ]
    },
    {
      "cell_type": "code",
      "execution_count": 55,
      "id": "1cf068d2",
      "metadata": {
        "id": "1cf068d2",
        "outputId": "96bc3932-58d5-488f-ba55-2d3f2dc768a0",
        "colab": {
          "base_uri": "https://localhost:8080/"
        }
      },
      "outputs": [
        {
          "output_type": "execute_result",
          "data": {
            "text/plain": [
              "TtestResult(statistic=-0.7542295906745516, pvalue=0.45995773816634733, df=19)"
            ]
          },
          "metadata": {},
          "execution_count": 55
        }
      ],
      "source": [
        "scipy.stats.ttest_rel(my_cricket_score_from_first_inning,my_cricket_score_from_second_inning)"
      ]
    },
    {
      "cell_type": "markdown",
      "id": "5b620d51",
      "metadata": {
        "id": "5b620d51"
      },
      "source": [
        "# CHI -SQURE TEST"
      ]
    },
    {
      "cell_type": "code",
      "execution_count": 56,
      "id": "018a2502",
      "metadata": {
        "id": "018a2502"
      },
      "outputs": [],
      "source": [
        "import seaborn as sns\n",
        "dataset=sns.load_dataset('tips')"
      ]
    },
    {
      "cell_type": "code",
      "execution_count": 57,
      "id": "499bbe1e",
      "metadata": {
        "id": "499bbe1e",
        "outputId": "28b7850f-30ff-4286-8140-1e2216f70773",
        "colab": {
          "base_uri": "https://localhost:8080/",
          "height": 424
        }
      },
      "outputs": [
        {
          "output_type": "execute_result",
          "data": {
            "text/plain": [
              "     total_bill   tip     sex smoker   day    time  size\n",
              "0         16.99  1.01  Female     No   Sun  Dinner     2\n",
              "1         10.34  1.66    Male     No   Sun  Dinner     3\n",
              "2         21.01  3.50    Male     No   Sun  Dinner     3\n",
              "3         23.68  3.31    Male     No   Sun  Dinner     2\n",
              "4         24.59  3.61  Female     No   Sun  Dinner     4\n",
              "..          ...   ...     ...    ...   ...     ...   ...\n",
              "239       29.03  5.92    Male     No   Sat  Dinner     3\n",
              "240       27.18  2.00  Female    Yes   Sat  Dinner     2\n",
              "241       22.67  2.00    Male    Yes   Sat  Dinner     2\n",
              "242       17.82  1.75    Male     No   Sat  Dinner     2\n",
              "243       18.78  3.00  Female     No  Thur  Dinner     2\n",
              "\n",
              "[244 rows x 7 columns]"
            ],
            "text/html": [
              "\n",
              "  <div id=\"df-904a190c-6ef1-47d9-8fc6-beb27a348905\">\n",
              "    <div class=\"colab-df-container\">\n",
              "      <div>\n",
              "<style scoped>\n",
              "    .dataframe tbody tr th:only-of-type {\n",
              "        vertical-align: middle;\n",
              "    }\n",
              "\n",
              "    .dataframe tbody tr th {\n",
              "        vertical-align: top;\n",
              "    }\n",
              "\n",
              "    .dataframe thead th {\n",
              "        text-align: right;\n",
              "    }\n",
              "</style>\n",
              "<table border=\"1\" class=\"dataframe\">\n",
              "  <thead>\n",
              "    <tr style=\"text-align: right;\">\n",
              "      <th></th>\n",
              "      <th>total_bill</th>\n",
              "      <th>tip</th>\n",
              "      <th>sex</th>\n",
              "      <th>smoker</th>\n",
              "      <th>day</th>\n",
              "      <th>time</th>\n",
              "      <th>size</th>\n",
              "    </tr>\n",
              "  </thead>\n",
              "  <tbody>\n",
              "    <tr>\n",
              "      <th>0</th>\n",
              "      <td>16.99</td>\n",
              "      <td>1.01</td>\n",
              "      <td>Female</td>\n",
              "      <td>No</td>\n",
              "      <td>Sun</td>\n",
              "      <td>Dinner</td>\n",
              "      <td>2</td>\n",
              "    </tr>\n",
              "    <tr>\n",
              "      <th>1</th>\n",
              "      <td>10.34</td>\n",
              "      <td>1.66</td>\n",
              "      <td>Male</td>\n",
              "      <td>No</td>\n",
              "      <td>Sun</td>\n",
              "      <td>Dinner</td>\n",
              "      <td>3</td>\n",
              "    </tr>\n",
              "    <tr>\n",
              "      <th>2</th>\n",
              "      <td>21.01</td>\n",
              "      <td>3.50</td>\n",
              "      <td>Male</td>\n",
              "      <td>No</td>\n",
              "      <td>Sun</td>\n",
              "      <td>Dinner</td>\n",
              "      <td>3</td>\n",
              "    </tr>\n",
              "    <tr>\n",
              "      <th>3</th>\n",
              "      <td>23.68</td>\n",
              "      <td>3.31</td>\n",
              "      <td>Male</td>\n",
              "      <td>No</td>\n",
              "      <td>Sun</td>\n",
              "      <td>Dinner</td>\n",
              "      <td>2</td>\n",
              "    </tr>\n",
              "    <tr>\n",
              "      <th>4</th>\n",
              "      <td>24.59</td>\n",
              "      <td>3.61</td>\n",
              "      <td>Female</td>\n",
              "      <td>No</td>\n",
              "      <td>Sun</td>\n",
              "      <td>Dinner</td>\n",
              "      <td>4</td>\n",
              "    </tr>\n",
              "    <tr>\n",
              "      <th>...</th>\n",
              "      <td>...</td>\n",
              "      <td>...</td>\n",
              "      <td>...</td>\n",
              "      <td>...</td>\n",
              "      <td>...</td>\n",
              "      <td>...</td>\n",
              "      <td>...</td>\n",
              "    </tr>\n",
              "    <tr>\n",
              "      <th>239</th>\n",
              "      <td>29.03</td>\n",
              "      <td>5.92</td>\n",
              "      <td>Male</td>\n",
              "      <td>No</td>\n",
              "      <td>Sat</td>\n",
              "      <td>Dinner</td>\n",
              "      <td>3</td>\n",
              "    </tr>\n",
              "    <tr>\n",
              "      <th>240</th>\n",
              "      <td>27.18</td>\n",
              "      <td>2.00</td>\n",
              "      <td>Female</td>\n",
              "      <td>Yes</td>\n",
              "      <td>Sat</td>\n",
              "      <td>Dinner</td>\n",
              "      <td>2</td>\n",
              "    </tr>\n",
              "    <tr>\n",
              "      <th>241</th>\n",
              "      <td>22.67</td>\n",
              "      <td>2.00</td>\n",
              "      <td>Male</td>\n",
              "      <td>Yes</td>\n",
              "      <td>Sat</td>\n",
              "      <td>Dinner</td>\n",
              "      <td>2</td>\n",
              "    </tr>\n",
              "    <tr>\n",
              "      <th>242</th>\n",
              "      <td>17.82</td>\n",
              "      <td>1.75</td>\n",
              "      <td>Male</td>\n",
              "      <td>No</td>\n",
              "      <td>Sat</td>\n",
              "      <td>Dinner</td>\n",
              "      <td>2</td>\n",
              "    </tr>\n",
              "    <tr>\n",
              "      <th>243</th>\n",
              "      <td>18.78</td>\n",
              "      <td>3.00</td>\n",
              "      <td>Female</td>\n",
              "      <td>No</td>\n",
              "      <td>Thur</td>\n",
              "      <td>Dinner</td>\n",
              "      <td>2</td>\n",
              "    </tr>\n",
              "  </tbody>\n",
              "</table>\n",
              "<p>244 rows × 7 columns</p>\n",
              "</div>\n",
              "      <button class=\"colab-df-convert\" onclick=\"convertToInteractive('df-904a190c-6ef1-47d9-8fc6-beb27a348905')\"\n",
              "              title=\"Convert this dataframe to an interactive table.\"\n",
              "              style=\"display:none;\">\n",
              "        \n",
              "  <svg xmlns=\"http://www.w3.org/2000/svg\" height=\"24px\"viewBox=\"0 0 24 24\"\n",
              "       width=\"24px\">\n",
              "    <path d=\"M0 0h24v24H0V0z\" fill=\"none\"/>\n",
              "    <path d=\"M18.56 5.44l.94 2.06.94-2.06 2.06-.94-2.06-.94-.94-2.06-.94 2.06-2.06.94zm-11 1L8.5 8.5l.94-2.06 2.06-.94-2.06-.94L8.5 2.5l-.94 2.06-2.06.94zm10 10l.94 2.06.94-2.06 2.06-.94-2.06-.94-.94-2.06-.94 2.06-2.06.94z\"/><path d=\"M17.41 7.96l-1.37-1.37c-.4-.4-.92-.59-1.43-.59-.52 0-1.04.2-1.43.59L10.3 9.45l-7.72 7.72c-.78.78-.78 2.05 0 2.83L4 21.41c.39.39.9.59 1.41.59.51 0 1.02-.2 1.41-.59l7.78-7.78 2.81-2.81c.8-.78.8-2.07 0-2.86zM5.41 20L4 18.59l7.72-7.72 1.47 1.35L5.41 20z\"/>\n",
              "  </svg>\n",
              "      </button>\n",
              "      \n",
              "  <style>\n",
              "    .colab-df-container {\n",
              "      display:flex;\n",
              "      flex-wrap:wrap;\n",
              "      gap: 12px;\n",
              "    }\n",
              "\n",
              "    .colab-df-convert {\n",
              "      background-color: #E8F0FE;\n",
              "      border: none;\n",
              "      border-radius: 50%;\n",
              "      cursor: pointer;\n",
              "      display: none;\n",
              "      fill: #1967D2;\n",
              "      height: 32px;\n",
              "      padding: 0 0 0 0;\n",
              "      width: 32px;\n",
              "    }\n",
              "\n",
              "    .colab-df-convert:hover {\n",
              "      background-color: #E2EBFA;\n",
              "      box-shadow: 0px 1px 2px rgba(60, 64, 67, 0.3), 0px 1px 3px 1px rgba(60, 64, 67, 0.15);\n",
              "      fill: #174EA6;\n",
              "    }\n",
              "\n",
              "    [theme=dark] .colab-df-convert {\n",
              "      background-color: #3B4455;\n",
              "      fill: #D2E3FC;\n",
              "    }\n",
              "\n",
              "    [theme=dark] .colab-df-convert:hover {\n",
              "      background-color: #434B5C;\n",
              "      box-shadow: 0px 1px 3px 1px rgba(0, 0, 0, 0.15);\n",
              "      filter: drop-shadow(0px 1px 2px rgba(0, 0, 0, 0.3));\n",
              "      fill: #FFFFFF;\n",
              "    }\n",
              "  </style>\n",
              "\n",
              "      <script>\n",
              "        const buttonEl =\n",
              "          document.querySelector('#df-904a190c-6ef1-47d9-8fc6-beb27a348905 button.colab-df-convert');\n",
              "        buttonEl.style.display =\n",
              "          google.colab.kernel.accessAllowed ? 'block' : 'none';\n",
              "\n",
              "        async function convertToInteractive(key) {\n",
              "          const element = document.querySelector('#df-904a190c-6ef1-47d9-8fc6-beb27a348905');\n",
              "          const dataTable =\n",
              "            await google.colab.kernel.invokeFunction('convertToInteractive',\n",
              "                                                     [key], {});\n",
              "          if (!dataTable) return;\n",
              "\n",
              "          const docLinkHtml = 'Like what you see? Visit the ' +\n",
              "            '<a target=\"_blank\" href=https://colab.research.google.com/notebooks/data_table.ipynb>data table notebook</a>'\n",
              "            + ' to learn more about interactive tables.';\n",
              "          element.innerHTML = '';\n",
              "          dataTable['output_type'] = 'display_data';\n",
              "          await google.colab.output.renderOutput(dataTable, element);\n",
              "          const docLink = document.createElement('div');\n",
              "          docLink.innerHTML = docLinkHtml;\n",
              "          element.appendChild(docLink);\n",
              "        }\n",
              "      </script>\n",
              "    </div>\n",
              "  </div>\n",
              "  "
            ]
          },
          "metadata": {},
          "execution_count": 57
        }
      ],
      "source": [
        "dataset"
      ]
    },
    {
      "cell_type": "code",
      "execution_count": 58,
      "id": "39796287",
      "metadata": {
        "id": "39796287",
        "outputId": "08be825e-409e-4594-90d3-e9a7542f0f06",
        "colab": {
          "base_uri": "https://localhost:8080/"
        }
      },
      "outputs": [
        {
          "output_type": "stream",
          "name": "stdout",
          "text": [
            "<class 'pandas.core.frame.DataFrame'>\n",
            "RangeIndex: 244 entries, 0 to 243\n",
            "Data columns (total 7 columns):\n",
            " #   Column      Non-Null Count  Dtype   \n",
            "---  ------      --------------  -----   \n",
            " 0   total_bill  244 non-null    float64 \n",
            " 1   tip         244 non-null    float64 \n",
            " 2   sex         244 non-null    category\n",
            " 3   smoker      244 non-null    category\n",
            " 4   day         244 non-null    category\n",
            " 5   time        244 non-null    category\n",
            " 6   size        244 non-null    int64   \n",
            "dtypes: category(4), float64(2), int64(1)\n",
            "memory usage: 7.4 KB\n"
          ]
        }
      ],
      "source": [
        "dataset.info()"
      ]
    },
    {
      "cell_type": "code",
      "execution_count": 59,
      "id": "51a2440f",
      "metadata": {
        "id": "51a2440f",
        "outputId": "95dba8a0-a215-44eb-ff61-01dfd7113111",
        "colab": {
          "base_uri": "https://localhost:8080/"
        }
      },
      "outputs": [
        {
          "output_type": "execute_result",
          "data": {
            "text/plain": [
              "Index(['total_bill', 'tip', 'sex', 'smoker', 'day', 'time', 'size'], dtype='object')"
            ]
          },
          "metadata": {},
          "execution_count": 59
        }
      ],
      "source": [
        "dataset.columns"
      ]
    },
    {
      "cell_type": "code",
      "execution_count": 60,
      "id": "86c864fa",
      "metadata": {
        "id": "86c864fa",
        "outputId": "6c77a9eb-e6ba-4a49-aa6e-8b6369cf9116",
        "colab": {
          "base_uri": "https://localhost:8080/",
          "height": 424
        }
      },
      "outputs": [
        {
          "output_type": "execute_result",
          "data": {
            "text/plain": [
              "        sex smoker\n",
              "0    Female     No\n",
              "1      Male     No\n",
              "2      Male     No\n",
              "3      Male     No\n",
              "4    Female     No\n",
              "..      ...    ...\n",
              "239    Male     No\n",
              "240  Female    Yes\n",
              "241    Male    Yes\n",
              "242    Male     No\n",
              "243  Female     No\n",
              "\n",
              "[244 rows x 2 columns]"
            ],
            "text/html": [
              "\n",
              "  <div id=\"df-76be9db9-3233-4eca-979b-6bac2b37585a\">\n",
              "    <div class=\"colab-df-container\">\n",
              "      <div>\n",
              "<style scoped>\n",
              "    .dataframe tbody tr th:only-of-type {\n",
              "        vertical-align: middle;\n",
              "    }\n",
              "\n",
              "    .dataframe tbody tr th {\n",
              "        vertical-align: top;\n",
              "    }\n",
              "\n",
              "    .dataframe thead th {\n",
              "        text-align: right;\n",
              "    }\n",
              "</style>\n",
              "<table border=\"1\" class=\"dataframe\">\n",
              "  <thead>\n",
              "    <tr style=\"text-align: right;\">\n",
              "      <th></th>\n",
              "      <th>sex</th>\n",
              "      <th>smoker</th>\n",
              "    </tr>\n",
              "  </thead>\n",
              "  <tbody>\n",
              "    <tr>\n",
              "      <th>0</th>\n",
              "      <td>Female</td>\n",
              "      <td>No</td>\n",
              "    </tr>\n",
              "    <tr>\n",
              "      <th>1</th>\n",
              "      <td>Male</td>\n",
              "      <td>No</td>\n",
              "    </tr>\n",
              "    <tr>\n",
              "      <th>2</th>\n",
              "      <td>Male</td>\n",
              "      <td>No</td>\n",
              "    </tr>\n",
              "    <tr>\n",
              "      <th>3</th>\n",
              "      <td>Male</td>\n",
              "      <td>No</td>\n",
              "    </tr>\n",
              "    <tr>\n",
              "      <th>4</th>\n",
              "      <td>Female</td>\n",
              "      <td>No</td>\n",
              "    </tr>\n",
              "    <tr>\n",
              "      <th>...</th>\n",
              "      <td>...</td>\n",
              "      <td>...</td>\n",
              "    </tr>\n",
              "    <tr>\n",
              "      <th>239</th>\n",
              "      <td>Male</td>\n",
              "      <td>No</td>\n",
              "    </tr>\n",
              "    <tr>\n",
              "      <th>240</th>\n",
              "      <td>Female</td>\n",
              "      <td>Yes</td>\n",
              "    </tr>\n",
              "    <tr>\n",
              "      <th>241</th>\n",
              "      <td>Male</td>\n",
              "      <td>Yes</td>\n",
              "    </tr>\n",
              "    <tr>\n",
              "      <th>242</th>\n",
              "      <td>Male</td>\n",
              "      <td>No</td>\n",
              "    </tr>\n",
              "    <tr>\n",
              "      <th>243</th>\n",
              "      <td>Female</td>\n",
              "      <td>No</td>\n",
              "    </tr>\n",
              "  </tbody>\n",
              "</table>\n",
              "<p>244 rows × 2 columns</p>\n",
              "</div>\n",
              "      <button class=\"colab-df-convert\" onclick=\"convertToInteractive('df-76be9db9-3233-4eca-979b-6bac2b37585a')\"\n",
              "              title=\"Convert this dataframe to an interactive table.\"\n",
              "              style=\"display:none;\">\n",
              "        \n",
              "  <svg xmlns=\"http://www.w3.org/2000/svg\" height=\"24px\"viewBox=\"0 0 24 24\"\n",
              "       width=\"24px\">\n",
              "    <path d=\"M0 0h24v24H0V0z\" fill=\"none\"/>\n",
              "    <path d=\"M18.56 5.44l.94 2.06.94-2.06 2.06-.94-2.06-.94-.94-2.06-.94 2.06-2.06.94zm-11 1L8.5 8.5l.94-2.06 2.06-.94-2.06-.94L8.5 2.5l-.94 2.06-2.06.94zm10 10l.94 2.06.94-2.06 2.06-.94-2.06-.94-.94-2.06-.94 2.06-2.06.94z\"/><path d=\"M17.41 7.96l-1.37-1.37c-.4-.4-.92-.59-1.43-.59-.52 0-1.04.2-1.43.59L10.3 9.45l-7.72 7.72c-.78.78-.78 2.05 0 2.83L4 21.41c.39.39.9.59 1.41.59.51 0 1.02-.2 1.41-.59l7.78-7.78 2.81-2.81c.8-.78.8-2.07 0-2.86zM5.41 20L4 18.59l7.72-7.72 1.47 1.35L5.41 20z\"/>\n",
              "  </svg>\n",
              "      </button>\n",
              "      \n",
              "  <style>\n",
              "    .colab-df-container {\n",
              "      display:flex;\n",
              "      flex-wrap:wrap;\n",
              "      gap: 12px;\n",
              "    }\n",
              "\n",
              "    .colab-df-convert {\n",
              "      background-color: #E8F0FE;\n",
              "      border: none;\n",
              "      border-radius: 50%;\n",
              "      cursor: pointer;\n",
              "      display: none;\n",
              "      fill: #1967D2;\n",
              "      height: 32px;\n",
              "      padding: 0 0 0 0;\n",
              "      width: 32px;\n",
              "    }\n",
              "\n",
              "    .colab-df-convert:hover {\n",
              "      background-color: #E2EBFA;\n",
              "      box-shadow: 0px 1px 2px rgba(60, 64, 67, 0.3), 0px 1px 3px 1px rgba(60, 64, 67, 0.15);\n",
              "      fill: #174EA6;\n",
              "    }\n",
              "\n",
              "    [theme=dark] .colab-df-convert {\n",
              "      background-color: #3B4455;\n",
              "      fill: #D2E3FC;\n",
              "    }\n",
              "\n",
              "    [theme=dark] .colab-df-convert:hover {\n",
              "      background-color: #434B5C;\n",
              "      box-shadow: 0px 1px 3px 1px rgba(0, 0, 0, 0.15);\n",
              "      filter: drop-shadow(0px 1px 2px rgba(0, 0, 0, 0.3));\n",
              "      fill: #FFFFFF;\n",
              "    }\n",
              "  </style>\n",
              "\n",
              "      <script>\n",
              "        const buttonEl =\n",
              "          document.querySelector('#df-76be9db9-3233-4eca-979b-6bac2b37585a button.colab-df-convert');\n",
              "        buttonEl.style.display =\n",
              "          google.colab.kernel.accessAllowed ? 'block' : 'none';\n",
              "\n",
              "        async function convertToInteractive(key) {\n",
              "          const element = document.querySelector('#df-76be9db9-3233-4eca-979b-6bac2b37585a');\n",
              "          const dataTable =\n",
              "            await google.colab.kernel.invokeFunction('convertToInteractive',\n",
              "                                                     [key], {});\n",
              "          if (!dataTable) return;\n",
              "\n",
              "          const docLinkHtml = 'Like what you see? Visit the ' +\n",
              "            '<a target=\"_blank\" href=https://colab.research.google.com/notebooks/data_table.ipynb>data table notebook</a>'\n",
              "            + ' to learn more about interactive tables.';\n",
              "          element.innerHTML = '';\n",
              "          dataTable['output_type'] = 'display_data';\n",
              "          await google.colab.output.renderOutput(dataTable, element);\n",
              "          const docLink = document.createElement('div');\n",
              "          docLink.innerHTML = docLinkHtml;\n",
              "          element.appendChild(docLink);\n",
              "        }\n",
              "      </script>\n",
              "    </div>\n",
              "  </div>\n",
              "  "
            ]
          },
          "metadata": {},
          "execution_count": 60
        }
      ],
      "source": [
        "dataset[['sex','smoker']]"
      ]
    },
    {
      "cell_type": "code",
      "source": [
        "pd.crosstab(dataset['sex'],dataset['smoker'])"
      ],
      "metadata": {
        "id": "-vrf66n56lzV",
        "outputId": "ea5778c5-610d-48d7-b6a2-9a63f17c680f",
        "colab": {
          "base_uri": "https://localhost:8080/",
          "height": 143
        }
      },
      "id": "-vrf66n56lzV",
      "execution_count": 61,
      "outputs": [
        {
          "output_type": "execute_result",
          "data": {
            "text/plain": [
              "smoker  Yes  No\n",
              "sex            \n",
              "Male     60  97\n",
              "Female   33  54"
            ],
            "text/html": [
              "\n",
              "  <div id=\"df-352f2231-b442-4d56-adae-d9c8f5b6e1b8\">\n",
              "    <div class=\"colab-df-container\">\n",
              "      <div>\n",
              "<style scoped>\n",
              "    .dataframe tbody tr th:only-of-type {\n",
              "        vertical-align: middle;\n",
              "    }\n",
              "\n",
              "    .dataframe tbody tr th {\n",
              "        vertical-align: top;\n",
              "    }\n",
              "\n",
              "    .dataframe thead th {\n",
              "        text-align: right;\n",
              "    }\n",
              "</style>\n",
              "<table border=\"1\" class=\"dataframe\">\n",
              "  <thead>\n",
              "    <tr style=\"text-align: right;\">\n",
              "      <th>smoker</th>\n",
              "      <th>Yes</th>\n",
              "      <th>No</th>\n",
              "    </tr>\n",
              "    <tr>\n",
              "      <th>sex</th>\n",
              "      <th></th>\n",
              "      <th></th>\n",
              "    </tr>\n",
              "  </thead>\n",
              "  <tbody>\n",
              "    <tr>\n",
              "      <th>Male</th>\n",
              "      <td>60</td>\n",
              "      <td>97</td>\n",
              "    </tr>\n",
              "    <tr>\n",
              "      <th>Female</th>\n",
              "      <td>33</td>\n",
              "      <td>54</td>\n",
              "    </tr>\n",
              "  </tbody>\n",
              "</table>\n",
              "</div>\n",
              "      <button class=\"colab-df-convert\" onclick=\"convertToInteractive('df-352f2231-b442-4d56-adae-d9c8f5b6e1b8')\"\n",
              "              title=\"Convert this dataframe to an interactive table.\"\n",
              "              style=\"display:none;\">\n",
              "        \n",
              "  <svg xmlns=\"http://www.w3.org/2000/svg\" height=\"24px\"viewBox=\"0 0 24 24\"\n",
              "       width=\"24px\">\n",
              "    <path d=\"M0 0h24v24H0V0z\" fill=\"none\"/>\n",
              "    <path d=\"M18.56 5.44l.94 2.06.94-2.06 2.06-.94-2.06-.94-.94-2.06-.94 2.06-2.06.94zm-11 1L8.5 8.5l.94-2.06 2.06-.94-2.06-.94L8.5 2.5l-.94 2.06-2.06.94zm10 10l.94 2.06.94-2.06 2.06-.94-2.06-.94-.94-2.06-.94 2.06-2.06.94z\"/><path d=\"M17.41 7.96l-1.37-1.37c-.4-.4-.92-.59-1.43-.59-.52 0-1.04.2-1.43.59L10.3 9.45l-7.72 7.72c-.78.78-.78 2.05 0 2.83L4 21.41c.39.39.9.59 1.41.59.51 0 1.02-.2 1.41-.59l7.78-7.78 2.81-2.81c.8-.78.8-2.07 0-2.86zM5.41 20L4 18.59l7.72-7.72 1.47 1.35L5.41 20z\"/>\n",
              "  </svg>\n",
              "      </button>\n",
              "      \n",
              "  <style>\n",
              "    .colab-df-container {\n",
              "      display:flex;\n",
              "      flex-wrap:wrap;\n",
              "      gap: 12px;\n",
              "    }\n",
              "\n",
              "    .colab-df-convert {\n",
              "      background-color: #E8F0FE;\n",
              "      border: none;\n",
              "      border-radius: 50%;\n",
              "      cursor: pointer;\n",
              "      display: none;\n",
              "      fill: #1967D2;\n",
              "      height: 32px;\n",
              "      padding: 0 0 0 0;\n",
              "      width: 32px;\n",
              "    }\n",
              "\n",
              "    .colab-df-convert:hover {\n",
              "      background-color: #E2EBFA;\n",
              "      box-shadow: 0px 1px 2px rgba(60, 64, 67, 0.3), 0px 1px 3px 1px rgba(60, 64, 67, 0.15);\n",
              "      fill: #174EA6;\n",
              "    }\n",
              "\n",
              "    [theme=dark] .colab-df-convert {\n",
              "      background-color: #3B4455;\n",
              "      fill: #D2E3FC;\n",
              "    }\n",
              "\n",
              "    [theme=dark] .colab-df-convert:hover {\n",
              "      background-color: #434B5C;\n",
              "      box-shadow: 0px 1px 3px 1px rgba(0, 0, 0, 0.15);\n",
              "      filter: drop-shadow(0px 1px 2px rgba(0, 0, 0, 0.3));\n",
              "      fill: #FFFFFF;\n",
              "    }\n",
              "  </style>\n",
              "\n",
              "      <script>\n",
              "        const buttonEl =\n",
              "          document.querySelector('#df-352f2231-b442-4d56-adae-d9c8f5b6e1b8 button.colab-df-convert');\n",
              "        buttonEl.style.display =\n",
              "          google.colab.kernel.accessAllowed ? 'block' : 'none';\n",
              "\n",
              "        async function convertToInteractive(key) {\n",
              "          const element = document.querySelector('#df-352f2231-b442-4d56-adae-d9c8f5b6e1b8');\n",
              "          const dataTable =\n",
              "            await google.colab.kernel.invokeFunction('convertToInteractive',\n",
              "                                                     [key], {});\n",
              "          if (!dataTable) return;\n",
              "\n",
              "          const docLinkHtml = 'Like what you see? Visit the ' +\n",
              "            '<a target=\"_blank\" href=https://colab.research.google.com/notebooks/data_table.ipynb>data table notebook</a>'\n",
              "            + ' to learn more about interactive tables.';\n",
              "          element.innerHTML = '';\n",
              "          dataTable['output_type'] = 'display_data';\n",
              "          await google.colab.output.renderOutput(dataTable, element);\n",
              "          const docLink = document.createElement('div');\n",
              "          docLink.innerHTML = docLinkHtml;\n",
              "          element.appendChild(docLink);\n",
              "        }\n",
              "      </script>\n",
              "    </div>\n",
              "  </div>\n",
              "  "
            ]
          },
          "metadata": {},
          "execution_count": 61
        }
      ]
    },
    {
      "cell_type": "code",
      "execution_count": 62,
      "id": "1a40f775",
      "metadata": {
        "id": "1a40f775"
      },
      "outputs": [],
      "source": [
        "dataset_table=pd.crosstab(dataset['sex'],dataset['smoker'])"
      ]
    },
    {
      "cell_type": "code",
      "execution_count": 63,
      "id": "791bbe82",
      "metadata": {
        "id": "791bbe82"
      },
      "outputs": [],
      "source": [
        "Observed_Values=dataset_table.values"
      ]
    },
    {
      "cell_type": "code",
      "source": [
        "Observed_Values"
      ],
      "metadata": {
        "id": "3jgiVEZl7AGZ",
        "outputId": "8b31949b-f26d-4151-cb07-e44400425dcc",
        "colab": {
          "base_uri": "https://localhost:8080/"
        }
      },
      "id": "3jgiVEZl7AGZ",
      "execution_count": 64,
      "outputs": [
        {
          "output_type": "execute_result",
          "data": {
            "text/plain": [
              "array([[60, 97],\n",
              "       [33, 54]])"
            ]
          },
          "metadata": {},
          "execution_count": 64
        }
      ]
    },
    {
      "cell_type": "code",
      "execution_count": 65,
      "id": "0957098c",
      "metadata": {
        "id": "0957098c",
        "outputId": "e833898d-1d7c-4ea4-b68e-150447aeacae",
        "colab": {
          "base_uri": "https://localhost:8080/"
        }
      },
      "outputs": [
        {
          "output_type": "stream",
          "name": "stdout",
          "text": [
            "observed value(real value) \n",
            " [[60 97]\n",
            " [33 54]]\n"
          ]
        }
      ],
      "source": [
        "print(f\"observed value(real value) \\n {Observed_Values}\")"
      ]
    },
    {
      "cell_type": "code",
      "execution_count": 66,
      "id": "28b9180f",
      "metadata": {
        "id": "28b9180f"
      },
      "outputs": [],
      "source": [
        "import scipy.stats as stats"
      ]
    },
    {
      "cell_type": "code",
      "source": [
        "stats.chi2_contingency(Observed_Values)"
      ],
      "metadata": {
        "id": "BaNJN6sc7q53",
        "outputId": "83f86f3f-61b3-4889-c602-f6bc9ad9c78c",
        "colab": {
          "base_uri": "https://localhost:8080/"
        }
      },
      "id": "BaNJN6sc7q53",
      "execution_count": 67,
      "outputs": [
        {
          "output_type": "execute_result",
          "data": {
            "text/plain": [
              "Chi2ContingencyResult(statistic=0.0, pvalue=1.0, dof=1, expected_freq=array([[59.84016393, 97.15983607],\n",
              "       [33.15983607, 53.84016393]]))"
            ]
          },
          "metadata": {},
          "execution_count": 67
        }
      ]
    },
    {
      "cell_type": "code",
      "execution_count": 68,
      "id": "29d85e39",
      "metadata": {
        "id": "29d85e39"
      },
      "outputs": [],
      "source": [
        "stats_test,p,dof,Expected_Values=stats.chi2_contingency(Observed_Values)\n",
        "                       "
      ]
    },
    {
      "cell_type": "code",
      "execution_count": 69,
      "id": "075036b9",
      "metadata": {
        "id": "075036b9",
        "outputId": "1a2d97e1-7ea3-474c-94f1-ac87cd7cfbd3",
        "colab": {
          "base_uri": "https://localhost:8080/"
        }
      },
      "outputs": [
        {
          "output_type": "execute_result",
          "data": {
            "text/plain": [
              "1.0"
            ]
          },
          "metadata": {},
          "execution_count": 69
        }
      ],
      "source": [
        "p"
      ]
    },
    {
      "cell_type": "code",
      "execution_count": 70,
      "id": "929b5e40",
      "metadata": {
        "id": "929b5e40",
        "outputId": "e66b555c-007f-4178-f477-6fd12c97e790",
        "colab": {
          "base_uri": "https://localhost:8080/"
        }
      },
      "outputs": [
        {
          "output_type": "stream",
          "name": "stdout",
          "text": [
            "observed value(real value) \n",
            " [[60 97]\n",
            " [33 54]]\n"
          ]
        }
      ],
      "source": [
        "print(f\"observed value(real value) \\n {Observed_Values}\")"
      ]
    },
    {
      "cell_type": "code",
      "execution_count": 71,
      "id": "470361bf",
      "metadata": {
        "id": "470361bf",
        "outputId": "f3bdb7ec-3d9d-4bd1-93b5-225fe943aa2d",
        "colab": {
          "base_uri": "https://localhost:8080/"
        }
      },
      "outputs": [
        {
          "output_type": "execute_result",
          "data": {
            "text/plain": [
              "array([[59.84016393, 97.15983607],\n",
              "       [33.15983607, 53.84016393]])"
            ]
          },
          "metadata": {},
          "execution_count": 71
        }
      ],
      "source": [
        "Expected_Values"
      ]
    },
    {
      "cell_type": "code",
      "execution_count": 72,
      "id": "982de65e",
      "metadata": {
        "id": "982de65e",
        "outputId": "31870652-0018-4cb1-d3c9-d4125f0bb035",
        "colab": {
          "base_uri": "https://localhost:8080/",
          "height": 143
        }
      },
      "outputs": [
        {
          "output_type": "execute_result",
          "data": {
            "text/plain": [
              "smoker  Yes  No\n",
              "sex            \n",
              "Male     60  97\n",
              "Female   33  54"
            ],
            "text/html": [
              "\n",
              "  <div id=\"df-e242d06a-76f4-473d-adea-f57042432595\">\n",
              "    <div class=\"colab-df-container\">\n",
              "      <div>\n",
              "<style scoped>\n",
              "    .dataframe tbody tr th:only-of-type {\n",
              "        vertical-align: middle;\n",
              "    }\n",
              "\n",
              "    .dataframe tbody tr th {\n",
              "        vertical-align: top;\n",
              "    }\n",
              "\n",
              "    .dataframe thead th {\n",
              "        text-align: right;\n",
              "    }\n",
              "</style>\n",
              "<table border=\"1\" class=\"dataframe\">\n",
              "  <thead>\n",
              "    <tr style=\"text-align: right;\">\n",
              "      <th>smoker</th>\n",
              "      <th>Yes</th>\n",
              "      <th>No</th>\n",
              "    </tr>\n",
              "    <tr>\n",
              "      <th>sex</th>\n",
              "      <th></th>\n",
              "      <th></th>\n",
              "    </tr>\n",
              "  </thead>\n",
              "  <tbody>\n",
              "    <tr>\n",
              "      <th>Male</th>\n",
              "      <td>60</td>\n",
              "      <td>97</td>\n",
              "    </tr>\n",
              "    <tr>\n",
              "      <th>Female</th>\n",
              "      <td>33</td>\n",
              "      <td>54</td>\n",
              "    </tr>\n",
              "  </tbody>\n",
              "</table>\n",
              "</div>\n",
              "      <button class=\"colab-df-convert\" onclick=\"convertToInteractive('df-e242d06a-76f4-473d-adea-f57042432595')\"\n",
              "              title=\"Convert this dataframe to an interactive table.\"\n",
              "              style=\"display:none;\">\n",
              "        \n",
              "  <svg xmlns=\"http://www.w3.org/2000/svg\" height=\"24px\"viewBox=\"0 0 24 24\"\n",
              "       width=\"24px\">\n",
              "    <path d=\"M0 0h24v24H0V0z\" fill=\"none\"/>\n",
              "    <path d=\"M18.56 5.44l.94 2.06.94-2.06 2.06-.94-2.06-.94-.94-2.06-.94 2.06-2.06.94zm-11 1L8.5 8.5l.94-2.06 2.06-.94-2.06-.94L8.5 2.5l-.94 2.06-2.06.94zm10 10l.94 2.06.94-2.06 2.06-.94-2.06-.94-.94-2.06-.94 2.06-2.06.94z\"/><path d=\"M17.41 7.96l-1.37-1.37c-.4-.4-.92-.59-1.43-.59-.52 0-1.04.2-1.43.59L10.3 9.45l-7.72 7.72c-.78.78-.78 2.05 0 2.83L4 21.41c.39.39.9.59 1.41.59.51 0 1.02-.2 1.41-.59l7.78-7.78 2.81-2.81c.8-.78.8-2.07 0-2.86zM5.41 20L4 18.59l7.72-7.72 1.47 1.35L5.41 20z\"/>\n",
              "  </svg>\n",
              "      </button>\n",
              "      \n",
              "  <style>\n",
              "    .colab-df-container {\n",
              "      display:flex;\n",
              "      flex-wrap:wrap;\n",
              "      gap: 12px;\n",
              "    }\n",
              "\n",
              "    .colab-df-convert {\n",
              "      background-color: #E8F0FE;\n",
              "      border: none;\n",
              "      border-radius: 50%;\n",
              "      cursor: pointer;\n",
              "      display: none;\n",
              "      fill: #1967D2;\n",
              "      height: 32px;\n",
              "      padding: 0 0 0 0;\n",
              "      width: 32px;\n",
              "    }\n",
              "\n",
              "    .colab-df-convert:hover {\n",
              "      background-color: #E2EBFA;\n",
              "      box-shadow: 0px 1px 2px rgba(60, 64, 67, 0.3), 0px 1px 3px 1px rgba(60, 64, 67, 0.15);\n",
              "      fill: #174EA6;\n",
              "    }\n",
              "\n",
              "    [theme=dark] .colab-df-convert {\n",
              "      background-color: #3B4455;\n",
              "      fill: #D2E3FC;\n",
              "    }\n",
              "\n",
              "    [theme=dark] .colab-df-convert:hover {\n",
              "      background-color: #434B5C;\n",
              "      box-shadow: 0px 1px 3px 1px rgba(0, 0, 0, 0.15);\n",
              "      filter: drop-shadow(0px 1px 2px rgba(0, 0, 0, 0.3));\n",
              "      fill: #FFFFFF;\n",
              "    }\n",
              "  </style>\n",
              "\n",
              "      <script>\n",
              "        const buttonEl =\n",
              "          document.querySelector('#df-e242d06a-76f4-473d-adea-f57042432595 button.colab-df-convert');\n",
              "        buttonEl.style.display =\n",
              "          google.colab.kernel.accessAllowed ? 'block' : 'none';\n",
              "\n",
              "        async function convertToInteractive(key) {\n",
              "          const element = document.querySelector('#df-e242d06a-76f4-473d-adea-f57042432595');\n",
              "          const dataTable =\n",
              "            await google.colab.kernel.invokeFunction('convertToInteractive',\n",
              "                                                     [key], {});\n",
              "          if (!dataTable) return;\n",
              "\n",
              "          const docLinkHtml = 'Like what you see? Visit the ' +\n",
              "            '<a target=\"_blank\" href=https://colab.research.google.com/notebooks/data_table.ipynb>data table notebook</a>'\n",
              "            + ' to learn more about interactive tables.';\n",
              "          element.innerHTML = '';\n",
              "          dataTable['output_type'] = 'display_data';\n",
              "          await google.colab.output.renderOutput(dataTable, element);\n",
              "          const docLink = document.createElement('div');\n",
              "          docLink.innerHTML = docLinkHtml;\n",
              "          element.appendChild(docLink);\n",
              "        }\n",
              "      </script>\n",
              "    </div>\n",
              "  </div>\n",
              "  "
            ]
          },
          "metadata": {},
          "execution_count": 72
        }
      ],
      "source": [
        "dataset_table"
      ]
    },
    {
      "cell_type": "code",
      "execution_count": 73,
      "id": "c7f3d956",
      "metadata": {
        "id": "c7f3d956"
      },
      "outputs": [],
      "source": [
        "no_of_rows=dataset_table.iloc[0:2,0]"
      ]
    },
    {
      "cell_type": "code",
      "execution_count": 74,
      "id": "157a68aa",
      "metadata": {
        "id": "157a68aa",
        "outputId": "97820609-9f6a-4f33-920b-7682f71aec8c",
        "colab": {
          "base_uri": "https://localhost:8080/"
        }
      },
      "outputs": [
        {
          "output_type": "execute_result",
          "data": {
            "text/plain": [
              "2"
            ]
          },
          "metadata": {},
          "execution_count": 74
        }
      ],
      "source": [
        "len(no_of_rows)"
      ]
    },
    {
      "cell_type": "code",
      "execution_count": 75,
      "id": "ffbec071",
      "metadata": {
        "id": "ffbec071"
      },
      "outputs": [],
      "source": [
        "no_of_columns=dataset_table.iloc[0,0:2]"
      ]
    },
    {
      "cell_type": "code",
      "execution_count": 76,
      "id": "98aeec30",
      "metadata": {
        "id": "98aeec30",
        "outputId": "bad53268-3b46-4731-e2f0-ec3340a84cd9",
        "colab": {
          "base_uri": "https://localhost:8080/"
        }
      },
      "outputs": [
        {
          "output_type": "execute_result",
          "data": {
            "text/plain": [
              "2"
            ]
          },
          "metadata": {},
          "execution_count": 76
        }
      ],
      "source": [
        "len(no_of_columns)"
      ]
    },
    {
      "cell_type": "code",
      "execution_count": 77,
      "id": "828a44c1",
      "metadata": {
        "id": "828a44c1"
      },
      "outputs": [],
      "source": [
        "dof=(len(no_of_columns)-1)*(len(no_of_rows)-1)"
      ]
    },
    {
      "cell_type": "code",
      "execution_count": 78,
      "id": "4c3259a5",
      "metadata": {
        "id": "4c3259a5",
        "outputId": "570a7149-e74c-49e6-8e5d-04561b34ba56",
        "colab": {
          "base_uri": "https://localhost:8080/"
        }
      },
      "outputs": [
        {
          "output_type": "execute_result",
          "data": {
            "text/plain": [
              "1"
            ]
          },
          "metadata": {},
          "execution_count": 78
        }
      ],
      "source": [
        "dof"
      ]
    },
    {
      "cell_type": "code",
      "execution_count": 79,
      "id": "b01e0730",
      "metadata": {
        "id": "b01e0730",
        "outputId": "27ed2b07-f3ff-4923-e765-de4e2e4567bd",
        "colab": {
          "base_uri": "https://localhost:8080/"
        }
      },
      "outputs": [
        {
          "output_type": "stream",
          "name": "stdout",
          "text": [
            "[60 97] [59.84016393 97.15983607]\n",
            "[33 54] [33.15983607 53.84016393]\n"
          ]
        }
      ],
      "source": [
        "for o,e in zip(Observed_Values,Expected_Values):\n",
        "    print(o,e)"
      ]
    },
    {
      "cell_type": "code",
      "execution_count": 80,
      "id": "0daf6f7e",
      "metadata": {
        "id": "0daf6f7e"
      },
      "outputs": [],
      "source": [
        "from scipy.stats import chi2\n",
        "chisqure_test=sum([(o-e)**2./e for o,e in zip(Observed_Values,Expected_Values)])"
      ]
    },
    {
      "cell_type": "code",
      "execution_count": 81,
      "id": "bbbfefaf",
      "metadata": {
        "id": "bbbfefaf",
        "outputId": "eac81a8d-40a8-4a59-e75f-03a95a5c61af",
        "colab": {
          "base_uri": "https://localhost:8080/"
        }
      },
      "outputs": [
        {
          "output_type": "execute_result",
          "data": {
            "text/plain": [
              "array([0.00119737, 0.00073745])"
            ]
          },
          "metadata": {},
          "execution_count": 81
        }
      ],
      "source": [
        "chisqure_test"
      ]
    },
    {
      "cell_type": "code",
      "execution_count": 82,
      "id": "3341e50d",
      "metadata": {
        "id": "3341e50d"
      },
      "outputs": [],
      "source": [
        "chi_square_statistic=chisqure_test[0]+chisqure_test[1]"
      ]
    },
    {
      "cell_type": "code",
      "execution_count": 83,
      "id": "651a0021",
      "metadata": {
        "id": "651a0021"
      },
      "outputs": [],
      "source": [
        "alpha=0.05"
      ]
    },
    {
      "cell_type": "code",
      "execution_count": 84,
      "id": "73040659",
      "metadata": {
        "id": "73040659",
        "outputId": "b4dea467-a0fa-492b-f130-1e4cadf26548",
        "colab": {
          "base_uri": "https://localhost:8080/"
        }
      },
      "outputs": [
        {
          "output_type": "execute_result",
          "data": {
            "text/plain": [
              "1"
            ]
          },
          "metadata": {},
          "execution_count": 84
        }
      ],
      "source": [
        "dof"
      ]
    },
    {
      "cell_type": "code",
      "execution_count": 85,
      "id": "7cc242e9",
      "metadata": {
        "id": "7cc242e9"
      },
      "outputs": [],
      "source": [
        "from scipy.stats import chi2\n",
        "critical_value=chi2.ppf(1-alpha,df=dof)"
      ]
    },
    {
      "cell_type": "code",
      "execution_count": 86,
      "id": "d5e110e0",
      "metadata": {
        "id": "d5e110e0",
        "outputId": "3abca129-be5a-4c35-bad0-df73093b7ccd",
        "colab": {
          "base_uri": "https://localhost:8080/"
        }
      },
      "outputs": [
        {
          "output_type": "stream",
          "name": "stdout",
          "text": [
            "Retain H0,There is no relationship between 2 categorical variables\n"
          ]
        }
      ],
      "source": [
        "if chi_square_statistic>=critical_value:\n",
        "    print(\"Reject H0,There is a relationship between 2 categorical variables\")\n",
        "else:\n",
        "    print(\"Retain H0,There is no relationship between 2 categorical variables\")"
      ]
    },
    {
      "cell_type": "code",
      "execution_count": 87,
      "id": "4e6893c5",
      "metadata": {
        "id": "4e6893c5"
      },
      "outputs": [],
      "source": [
        "#p-value\n",
        "p_value=1-chi2.cdf(x=chi_square_statistic,df=dof)"
      ]
    },
    {
      "cell_type": "code",
      "execution_count": 88,
      "id": "71316eb1",
      "metadata": {
        "id": "71316eb1",
        "outputId": "eddb5100-c888-41d7-ec2c-a54ab8659c0e",
        "colab": {
          "base_uri": "https://localhost:8080/"
        }
      },
      "outputs": [
        {
          "output_type": "stream",
          "name": "stdout",
          "text": [
            "Retain H0,There is no relationship between 2 categorical variables\n"
          ]
        }
      ],
      "source": [
        "if p_value<=alpha:\n",
        "    print(\"Reject H0,There is a relationship between 2 categorical variables\")\n",
        "else:\n",
        "    print(\"Retain H0,There is no relationship between 2 categorical variables\")"
      ]
    },
    {
      "cell_type": "code",
      "execution_count": 89,
      "id": "5dcbad82",
      "metadata": {
        "id": "5dcbad82"
      },
      "outputs": [],
      "source": [
        "#ANOVA-TEST(f-test) in python(Assignment)"
      ]
    }
  ],
  "metadata": {
    "kernelspec": {
      "display_name": "Python 3 (ipykernel)",
      "language": "python",
      "name": "python3"
    },
    "language_info": {
      "codemirror_mode": {
        "name": "ipython",
        "version": 3
      },
      "file_extension": ".py",
      "mimetype": "text/x-python",
      "name": "python",
      "nbconvert_exporter": "python",
      "pygments_lexer": "ipython3",
      "version": "3.9.7"
    },
    "colab": {
      "provenance": []
    }
  },
  "nbformat": 4,
  "nbformat_minor": 5
}