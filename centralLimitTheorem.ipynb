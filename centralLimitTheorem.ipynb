{
  "cells": [
    {
      "cell_type": "code",
      "execution_count": 1,
      "id": "c69f90f3",
      "metadata": {
        "id": "c69f90f3"
      },
      "outputs": [],
      "source": [
        "import numpy as np\n",
        "from statistics import mode"
      ]
    },
    {
      "cell_type": "code",
      "execution_count": 2,
      "id": "ee576376",
      "metadata": {
        "id": "ee576376"
      },
      "outputs": [],
      "source": [
        "population=np.random.randint(10,20,50)"
      ]
    },
    {
      "cell_type": "code",
      "execution_count": 3,
      "id": "bae705c2",
      "metadata": {
        "id": "bae705c2",
        "outputId": "c50c4a4c-998d-4b8d-d0c2-fad7e87ee29f",
        "colab": {
          "base_uri": "https://localhost:8080/"
        }
      },
      "outputs": [
        {
          "output_type": "execute_result",
          "data": {
            "text/plain": [
              "array([17, 16, 15, 13, 12, 15, 12, 11, 12, 17, 10, 14, 11, 15, 16, 16, 11,\n",
              "       18, 12, 13, 11, 11, 16, 10, 17, 11, 16, 13, 11, 17, 11, 19, 13, 15,\n",
              "       14, 13, 12, 13, 10, 11, 19, 18, 18, 19, 17, 19, 11, 15, 19, 18])"
            ]
          },
          "metadata": {},
          "execution_count": 3
        }
      ],
      "source": [
        "population"
      ]
    },
    {
      "cell_type": "code",
      "execution_count": 4,
      "id": "dfa59ce0",
      "metadata": {
        "id": "dfa59ce0",
        "outputId": "37cfa862-36e4-4f37-a7ff-c285eb886e3a",
        "colab": {
          "base_uri": "https://localhost:8080/"
        }
      },
      "outputs": [
        {
          "output_type": "execute_result",
          "data": {
            "text/plain": [
              "14.26"
            ]
          },
          "metadata": {},
          "execution_count": 4
        }
      ],
      "source": [
        "np.mean(population)"
      ]
    },
    {
      "cell_type": "code",
      "execution_count": 5,
      "id": "b8450e38",
      "metadata": {
        "id": "b8450e38",
        "outputId": "06a27557-b744-455e-b605-5ff668b07699",
        "colab": {
          "base_uri": "https://localhost:8080/"
        }
      },
      "outputs": [
        {
          "output_type": "execute_result",
          "data": {
            "text/plain": [
              "14.0"
            ]
          },
          "metadata": {},
          "execution_count": 5
        }
      ],
      "source": [
        "np.median(population)"
      ]
    },
    {
      "cell_type": "code",
      "execution_count": 6,
      "id": "88864a5c",
      "metadata": {
        "id": "88864a5c",
        "outputId": "1ccd1b46-c34f-4a43-aab5-ef118e93ef40",
        "colab": {
          "base_uri": "https://localhost:8080/"
        }
      },
      "outputs": [
        {
          "output_type": "execute_result",
          "data": {
            "text/plain": [
              "11"
            ]
          },
          "metadata": {},
          "execution_count": 6
        }
      ],
      "source": [
        "mode(population)"
      ]
    },
    {
      "cell_type": "code",
      "execution_count": 7,
      "id": "c9aebbbb",
      "metadata": {
        "id": "c9aebbbb",
        "outputId": "05b589d1-d0b6-430b-e530-235f9311632a",
        "colab": {
          "base_uri": "https://localhost:8080/"
        }
      },
      "outputs": [
        {
          "output_type": "stream",
          "name": "stdout",
          "text": [
            "mean of the population 14.26\n",
            "median of the population 14.0\n",
            "mode of the population 11\n"
          ]
        }
      ],
      "source": [
        "print(f\"mean of the population {np.mean(population)}\")\n",
        "print(f\"median of the population {np.median(population)}\")\n",
        "print(f\"mode of the population {mode(population)}\")"
      ]
    },
    {
      "cell_type": "code",
      "execution_count": 8,
      "id": "bbdbc3f9",
      "metadata": {
        "id": "bbdbc3f9"
      },
      "outputs": [],
      "source": [
        "sample=np.random.choice(population,20)"
      ]
    },
    {
      "cell_type": "code",
      "execution_count": 9,
      "id": "c0f0ec3e",
      "metadata": {
        "id": "c0f0ec3e",
        "outputId": "72dd6a7f-dd13-469e-f6d4-95c223b4c862",
        "colab": {
          "base_uri": "https://localhost:8080/"
        }
      },
      "outputs": [
        {
          "output_type": "stream",
          "name": "stdout",
          "text": [
            "mean of the sample 14.95\n",
            "median of the sample 17.0\n",
            "mode of the sample 11\n"
          ]
        }
      ],
      "source": [
        "print(f\"mean of the sample {np.mean(sample)}\")\n",
        "print(f\"median of the sample {np.median(sample)}\")\n",
        "print(f\"mode of the sample {mode(sample)}\")"
      ]
    },
    {
      "cell_type": "code",
      "execution_count": 10,
      "id": "65911ccb",
      "metadata": {
        "id": "65911ccb"
      },
      "outputs": [],
      "source": [
        "sample1=np.random.choice(population,20)\n",
        "sample2=np.random.choice(population,20)\n",
        "sample3=np.random.choice(population,20)\n",
        "sample4=np.random.choice(population,20)"
      ]
    },
    {
      "cell_type": "code",
      "execution_count": 11,
      "id": "a615ad19",
      "metadata": {
        "id": "a615ad19",
        "outputId": "757ee9a9-5f08-40a5-ff93-03636efc046d",
        "colab": {
          "base_uri": "https://localhost:8080/"
        }
      },
      "outputs": [
        {
          "output_type": "stream",
          "name": "stdout",
          "text": [
            "[17 19 11 17 19 16 14 16 12 16 11 18 19 16 15 11 19 18 15 15]\n",
            "============================================================\n",
            "[13 13 14 14 11 12 16 13 11 19 17 11 18 13 10 11 19 13 14 16]\n",
            "============================================================\n",
            "[19 10 19 11 13 12 16 15 19 19 10 19 16 10 18 16 13 16 11 15]\n",
            "============================================================\n",
            "[11 15 12 13 18 17 16 13 11 17 10 16 12 12 19 13 17 14 13 17]\n"
          ]
        }
      ],
      "source": [
        "print(sample1)\n",
        "print(60*\"=\")\n",
        "print(sample2)\n",
        "print(60*\"=\")\n",
        "print(sample3)\n",
        "print(60*\"=\")\n",
        "print(sample4)"
      ]
    },
    {
      "cell_type": "code",
      "execution_count": 12,
      "id": "e38f78e7",
      "metadata": {
        "id": "e38f78e7"
      },
      "outputs": [],
      "source": [
        "mean_of_samples=[]\n",
        "\n",
        "all_sample=[sample1,sample2,sample3,sample4]\n",
        "\n",
        "for sample in all_sample:\n",
        "    mean_of_samples.append(np.mean(sample))\n"
      ]
    },
    {
      "cell_type": "code",
      "execution_count": 13,
      "id": "cabdc9c1",
      "metadata": {
        "id": "cabdc9c1",
        "outputId": "c26595e3-e00f-4b48-d8e9-3d6f408a55cf",
        "colab": {
          "base_uri": "https://localhost:8080/"
        }
      },
      "outputs": [
        {
          "output_type": "execute_result",
          "data": {
            "text/plain": [
              "[15.7, 13.9, 14.85, 14.3]"
            ]
          },
          "metadata": {},
          "execution_count": 13
        }
      ],
      "source": [
        "mean_of_samples"
      ]
    },
    {
      "cell_type": "markdown",
      "id": "8faf91c3",
      "metadata": {
        "id": "8faf91c3"
      },
      "source": [
        "# central limit theoram"
      ]
    },
    {
      "cell_type": "code",
      "execution_count": 14,
      "id": "98061da3",
      "metadata": {
        "id": "98061da3"
      },
      "outputs": [],
      "source": [
        "population=np.random.binomial(10,0.5,10000)"
      ]
    },
    {
      "cell_type": "code",
      "execution_count": 15,
      "id": "5ee0a65f",
      "metadata": {
        "id": "5ee0a65f",
        "outputId": "8a2a740c-f054-4da9-ec9e-f7b0b3d00ba7",
        "colab": {
          "base_uri": "https://localhost:8080/"
        }
      },
      "outputs": [
        {
          "output_type": "stream",
          "name": "stdout",
          "text": [
            "[7 5 2 ... 5 6 4]\n"
          ]
        }
      ],
      "source": [
        "print(population)"
      ]
    },
    {
      "cell_type": "code",
      "execution_count": 16,
      "id": "611cb7d0",
      "metadata": {
        "id": "611cb7d0",
        "outputId": "b1a720d1-0dec-4c6c-e4b8-7313e1bf0099",
        "colab": {
          "base_uri": "https://localhost:8080/"
        }
      },
      "outputs": [
        {
          "output_type": "execute_result",
          "data": {
            "text/plain": [
              "10000"
            ]
          },
          "metadata": {},
          "execution_count": 16
        }
      ],
      "source": [
        "len(population)"
      ]
    },
    {
      "cell_type": "code",
      "execution_count": 17,
      "id": "66112dc5",
      "metadata": {
        "id": "66112dc5",
        "outputId": "0b06cb26-897a-431e-f1e1-cf64a66e22c7",
        "colab": {
          "base_uri": "https://localhost:8080/",
          "height": 473
        }
      },
      "outputs": [
        {
          "output_type": "stream",
          "name": "stderr",
          "text": [
            "<ipython-input-17-b5f603439989>:2: UserWarning: \n",
            "\n",
            "`distplot` is a deprecated function and will be removed in seaborn v0.14.0.\n",
            "\n",
            "Please adapt your code to use either `displot` (a figure-level function with\n",
            "similar flexibility) or `histplot` (an axes-level function for histograms).\n",
            "\n",
            "For a guide to updating your code to use the new functions, please see\n",
            "https://gist.github.com/mwaskom/de44147ed2974457ad6372750bbe5751\n",
            "\n",
            "  sns.distplot(population)\n"
          ]
        },
        {
          "output_type": "execute_result",
          "data": {
            "text/plain": [
              "<Axes: ylabel='Density'>"
            ]
          },
          "metadata": {},
          "execution_count": 17
        },
        {
          "output_type": "display_data",
          "data": {
            "text/plain": [
              "<Figure size 432x288 with 1 Axes>"
            ],
            "image/png": "[encoded data removed]"
          },
          "metadata": {
            "needs_background": "light"
          }
        }
      ],
      "source": [
        "import seaborn as sns\n",
        "sns.distplot(population)"
      ]
    },
    {
      "cell_type": "code",
      "execution_count": 18,
      "id": "3f506950",
      "metadata": {
        "id": "3f506950",
        "outputId": "1a82775a-a380-41fd-b7fe-6f3e6f83e104",
        "colab": {
          "base_uri": "https://localhost:8080/"
        }
      },
      "outputs": [
        {
          "output_type": "execute_result",
          "data": {
            "text/plain": [
              "10000"
            ]
          },
          "metadata": {},
          "execution_count": 18
        }
      ],
      "source": [
        "len(population)"
      ]
    },
    {
      "cell_type": "code",
      "execution_count": 19,
      "id": "c128e087",
      "metadata": {
        "id": "c128e087",
        "outputId": "0761b3e2-448a-463d-f60e-0a84df0080dc",
        "colab": {
          "base_uri": "https://localhost:8080/"
        }
      },
      "outputs": [
        {
          "output_type": "execute_result",
          "data": {
            "text/plain": [
              "3000"
            ]
          },
          "metadata": {},
          "execution_count": 19
        }
      ],
      "source": [
        "int(len(population)*0.30)"
      ]
    },
    {
      "cell_type": "code",
      "execution_count": 20,
      "id": "b0b25491",
      "metadata": {
        "id": "b0b25491"
      },
      "outputs": [],
      "source": [
        "size=int(len(population)*0.30)"
      ]
    },
    {
      "cell_type": "code",
      "execution_count": 21,
      "id": "9da92fcf",
      "metadata": {
        "id": "9da92fcf"
      },
      "outputs": [],
      "source": [
        "sample_mean=[]\n",
        "for i in range(1,31):\n",
        "    sample=np.random.choice(population,size=size)\n",
        "    sample_mean.append(np.mean(sample))"
      ]
    },
    {
      "cell_type": "code",
      "execution_count": 22,
      "id": "30faa1a1",
      "metadata": {
        "id": "30faa1a1",
        "outputId": "54cf7faa-b5e1-4a31-c831-1606be1542dc",
        "colab": {
          "base_uri": "https://localhost:8080/"
        }
      },
      "outputs": [
        {
          "output_type": "execute_result",
          "data": {
            "text/plain": [
              "[5.067333333333333,\n",
              " 4.994666666666666,\n",
              " 4.995666666666667,\n",
              " 5.001,\n",
              " 5.075333333333333,\n",
              " 5.028666666666667,\n",
              " 4.996666666666667,\n",
              " 5.030666666666667,\n",
              " 5.006,\n",
              " 4.981,\n",
              " 5.011,\n",
              " 4.988,\n",
              " 5.011,\n",
              " 5.029,\n",
              " 5.024666666666667,\n",
              " 4.983666666666666,\n",
              " 5.080333333333333,\n",
              " 5.032666666666667,\n",
              " 5.015,\n",
              " 5.061,\n",
              " 5.038,\n",
              " 5.0,\n",
              " 5.051333333333333,\n",
              " 5.016,\n",
              " 5.020333333333333,\n",
              " 5.011,\n",
              " 5.017,\n",
              " 5.076,\n",
              " 5.054666666666667,\n",
              " 5.027]"
            ]
          },
          "metadata": {},
          "execution_count": 22
        }
      ],
      "source": [
        "sample_mean"
      ]
    },
    {
      "cell_type": "code",
      "execution_count": 23,
      "id": "2fd0b312",
      "metadata": {
        "id": "2fd0b312",
        "outputId": "104d1813-3255-4f36-a5c2-45086ca36c3e",
        "colab": {
          "base_uri": "https://localhost:8080/",
          "height": 473
        }
      },
      "outputs": [
        {
          "output_type": "stream",
          "name": "stderr",
          "text": [
            "<ipython-input-23-d196905dea46>:1: UserWarning: \n",
            "\n",
            "`distplot` is a deprecated function and will be removed in seaborn v0.14.0.\n",
            "\n",
            "Please adapt your code to use either `displot` (a figure-level function with\n",
            "similar flexibility) or `histplot` (an axes-level function for histograms).\n",
            "\n",
            "For a guide to updating your code to use the new functions, please see\n",
            "https://gist.github.com/mwaskom/de44147ed2974457ad6372750bbe5751\n",
            "\n",
            "  sns.distplot(sample_mean)\n"
          ]
        },
        {
          "output_type": "execute_result",
          "data": {
            "text/plain": [
              "<Axes: ylabel='Density'>"
            ]
          },
          "metadata": {},
          "execution_count": 23
        },
        {
          "output_type": "display_data",
          "data": {
            "text/plain": [
              "<Figure size 432x288 with 1 Axes>"
            ],
            "image/png": "[encoded data removed]"
          },
          "metadata": {
            "needs_background": "light"
          }
        }
      ],
      "source": [
        "sns.distplot(sample_mean)"
      ]
    },
    {
      "cell_type": "code",
      "execution_count": 24,
      "id": "088dc086",
      "metadata": {
        "id": "088dc086"
      },
      "outputs": [],
      "source": [
        "sample_mean=[]\n",
        "for i in range(1,100):\n",
        "    sample=np.random.choice(population,size=size)\n",
        "    sample_mean.append(np.mean(sample))"
      ]
    },
    {
      "cell_type": "code",
      "execution_count": 25,
      "id": "612b4452",
      "metadata": {
        "id": "612b4452",
        "outputId": "0177abd2-ce9d-4ade-f61e-31744c679944",
        "colab": {
          "base_uri": "https://localhost:8080/",
          "height": 473
        }
      },
      "outputs": [
        {
          "output_type": "stream",
          "name": "stderr",
          "text": [
            "<ipython-input-25-d196905dea46>:1: UserWarning: \n",
            "\n",
            "`distplot` is a deprecated function and will be removed in seaborn v0.14.0.\n",
            "\n",
            "Please adapt your code to use either `displot` (a figure-level function with\n",
            "similar flexibility) or `histplot` (an axes-level function for histograms).\n",
            "\n",
            "For a guide to updating your code to use the new functions, please see\n",
            "https://gist.github.com/mwaskom/de44147ed2974457ad6372750bbe5751\n",
            "\n",
            "  sns.distplot(sample_mean)\n"
          ]
        },
        {
          "output_type": "execute_result",
          "data": {
            "text/plain": [
              "<Axes: ylabel='Density'>"
            ]
          },
          "metadata": {},
          "execution_count": 25
        },
        {
          "output_type": "display_data",
          "data": {
            "text/plain": [
              "<Figure size 432x288 with 1 Axes>"
            ],
            "image/png": "[encoded data removed]"
          },
          "metadata": {
            "needs_background": "light"
          }
        }
      ],
      "source": [
        "sns.distplot(sample_mean)"
      ]
    },
    {
      "cell_type": "code",
      "execution_count": 26,
      "id": "dfc43342",
      "metadata": {
        "id": "dfc43342"
      },
      "outputs": [],
      "source": [
        "sample_mean=[]\n",
        "for i in range(1,501):\n",
        "    sample=np.random.choice(population,size=size)\n",
        "    sample_mean.append(np.mean(sample))"
      ]
    },
    {
      "cell_type": "code",
      "execution_count": 27,
      "id": "f5deb742",
      "metadata": {
        "id": "f5deb742",
        "outputId": "78d10372-f2a6-4fe5-9440-97833527a3a2",
        "colab": {
          "base_uri": "https://localhost:8080/",
          "height": 473
        }
      },
      "outputs": [
        {
          "output_type": "stream",
          "name": "stderr",
          "text": [
            "<ipython-input-27-e7b14f890e0e>:1: UserWarning: \n",
            "\n",
            "`distplot` is a deprecated function and will be removed in seaborn v0.14.0.\n",
            "\n",
            "Please adapt your code to use either `displot` (a figure-level function with\n",
            "similar flexibility) or `histplot` (an axes-level function for histograms).\n",
            "\n",
            "For a guide to updating your code to use the new functions, please see\n",
            "https://gist.github.com/mwaskom/de44147ed2974457ad6372750bbe5751\n",
            "\n",
            "  sns.distplot(sample_mean,kde=True,color=\"red\")\n"
          ]
        },
        {
          "output_type": "execute_result",
          "data": {
            "text/plain": [
              "<Axes: ylabel='Density'>"
            ]
          },
          "metadata": {},
          "execution_count": 27
        },
        {
          "output_type": "display_data",
          "data": {
            "text/plain": [
              "<Figure size 432x288 with 1 Axes>"
            ],
            "image/png": "[encoded data removed]"
          },
          "metadata": {
            "needs_background": "light"
          }
        }
      ],
      "source": [
        "sns.distplot(sample_mean,kde=True,color=\"red\")"
      ]
    },
    {
      "cell_type": "code",
      "execution_count": 28,
      "id": "f7a2f724",
      "metadata": {
        "id": "f7a2f724"
      },
      "outputs": [],
      "source": [
        "sample_mean=[]\n",
        "for i in range(1,1000):\n",
        "    sample=np.random.choice(population,size=size)\n",
        "    sample_mean.append(np.mean(sample))"
      ]
    },
    {
      "cell_type": "code",
      "execution_count": 29,
      "id": "10fa089b",
      "metadata": {
        "id": "10fa089b",
        "outputId": "ce1b2dea-f021-470f-c942-a87da1eabf9a",
        "colab": {
          "base_uri": "https://localhost:8080/",
          "height": 473
        }
      },
      "outputs": [
        {
          "output_type": "stream",
          "name": "stderr",
          "text": [
            "<ipython-input-29-d196905dea46>:1: UserWarning: \n",
            "\n",
            "`distplot` is a deprecated function and will be removed in seaborn v0.14.0.\n",
            "\n",
            "Please adapt your code to use either `displot` (a figure-level function with\n",
            "similar flexibility) or `histplot` (an axes-level function for histograms).\n",
            "\n",
            "For a guide to updating your code to use the new functions, please see\n",
            "https://gist.github.com/mwaskom/de44147ed2974457ad6372750bbe5751\n",
            "\n",
            "  sns.distplot(sample_mean)\n"
          ]
        },
        {
          "output_type": "execute_result",
          "data": {
            "text/plain": [
              "<Axes: ylabel='Density'>"
            ]
          },
          "metadata": {},
          "execution_count": 29
        },
        {
          "output_type": "display_data",
          "data": {
            "text/plain": [
              "<Figure size 432x288 with 1 Axes>"
            ],
            "image/png": "[encoded data removed]"
          },
          "metadata": {
            "needs_background": "light"
          }
        }
      ],
      "source": [
        "sns.distplot(sample_mean)"
      ]
    },
    {
      "cell_type": "code",
      "execution_count": 30,
      "id": "c2682670",
      "metadata": {
        "id": "c2682670",
        "outputId": "b3bc55c7-685f-4863-98cf-551539245419",
        "colab": {
          "base_uri": "https://localhost:8080/"
        }
      },
      "outputs": [
        {
          "output_type": "execute_result",
          "data": {
            "text/plain": [
              "5.021535869202535"
            ]
          },
          "metadata": {},
          "execution_count": 30
        }
      ],
      "source": [
        "np.mean(sample_mean)"
      ]
    },
    {
      "cell_type": "markdown",
      "id": "880cb251",
      "metadata": {
        "id": "880cb251"
      },
      "source": [
        "# confidence interval and margin of error"
      ]
    },
    {
      "cell_type": "code",
      "execution_count": 31,
      "id": "8acd0037",
      "metadata": {
        "id": "8acd0037"
      },
      "outputs": [],
      "source": [
        "population=np.random.randint(10,20,50)"
      ]
    },
    {
      "cell_type": "code",
      "execution_count": 32,
      "id": "46a8cec3",
      "metadata": {
        "id": "46a8cec3",
        "outputId": "a5b37279-4266-4c40-ca37-e689d5c4bb36",
        "colab": {
          "base_uri": "https://localhost:8080/"
        }
      },
      "outputs": [
        {
          "output_type": "execute_result",
          "data": {
            "text/plain": [
              "array([11, 11, 19, 19, 16, 19, 16, 17, 10, 11, 16, 13, 11, 16, 16, 16, 12,\n",
              "       18, 11, 18, 18, 10, 18, 17, 13, 10, 17, 17, 10, 19, 11, 17, 19, 18,\n",
              "       12, 10, 14, 10, 18, 17, 10, 10, 17, 12, 11, 14, 15, 10, 19, 11])"
            ]
          },
          "metadata": {},
          "execution_count": 32
        }
      ],
      "source": [
        "population"
      ]
    },
    {
      "cell_type": "code",
      "execution_count": 33,
      "id": "d0c4f4ca",
      "metadata": {
        "id": "d0c4f4ca"
      },
      "outputs": [],
      "source": [
        "sample1=np.random.choice(population,20)\n",
        "sample2=np.random.choice(population,20)\n",
        "sample3=np.random.choice(population,20)\n",
        "sample4=np.random.choice(population,20)"
      ]
    },
    {
      "cell_type": "code",
      "execution_count": 34,
      "id": "3b339270",
      "metadata": {
        "id": "3b339270"
      },
      "outputs": [],
      "source": [
        "mean_of_samples=[]\n",
        "\n",
        "all_sample=[sample1,sample2,sample3,sample4]\n",
        "\n",
        "for sample in all_sample:\n",
        "    mean_of_samples.append(np.mean(sample))"
      ]
    },
    {
      "cell_type": "code",
      "execution_count": 35,
      "id": "cc7e714a",
      "metadata": {
        "id": "cc7e714a"
      },
      "outputs": [],
      "source": [
        "import scipy.stats as stats"
      ]
    },
    {
      "cell_type": "code",
      "execution_count": 36,
      "id": "d26b52e5",
      "metadata": {
        "id": "d26b52e5",
        "outputId": "cb67cb12-2d80-4230-9dea-1167b1602cbb",
        "colab": {
          "base_uri": "https://localhost:8080/"
        }
      },
      "outputs": [
        {
          "output_type": "execute_result",
          "data": {
            "text/plain": [
              "1.6448536269514722"
            ]
          },
          "metadata": {},
          "execution_count": 36
        }
      ],
      "source": [
        "stats.norm.ppf(q=0.95)"
      ]
    },
    {
      "cell_type": "code",
      "source": [
        "stats.norm.ppf(q=0.158)"
      ],
      "metadata": {
        "id": "-oOcplZtgBBs",
        "outputId": "a5164131-f8a1-485f-9e30-df6e2c6f9107",
        "colab": {
          "base_uri": "https://localhost:8080/"
        }
      },
      "id": "-oOcplZtgBBs",
      "execution_count": 37,
      "outputs": [
        {
          "output_type": "execute_result",
          "data": {
            "text/plain": [
              "-1.0027116650265493"
            ]
          },
          "metadata": {},
          "execution_count": 37
        }
      ]
    },
    {
      "cell_type": "code",
      "source": [
        "stats.norm.ppf(q=0.975)"
      ],
      "metadata": {
        "id": "MZ3mu2Xpf43R",
        "outputId": "af4f04e7-f69b-48c5-8caf-edb637244914",
        "colab": {
          "base_uri": "https://localhost:8080/"
        }
      },
      "id": "MZ3mu2Xpf43R",
      "execution_count": 38,
      "outputs": [
        {
          "output_type": "execute_result",
          "data": {
            "text/plain": [
              "1.959963984540054"
            ]
          },
          "metadata": {},
          "execution_count": 38
        }
      ]
    },
    {
      "cell_type": "code",
      "source": [
        "stats.norm.ppf(q=0.99)"
      ],
      "metadata": {
        "id": "cYtyO1qgf8CX",
        "outputId": "d44e62a6-4a6e-40d8-9001-b95db2e1eb10",
        "colab": {
          "base_uri": "https://localhost:8080/"
        }
      },
      "id": "cYtyO1qgf8CX",
      "execution_count": 39,
      "outputs": [
        {
          "output_type": "execute_result",
          "data": {
            "text/plain": [
              "2.3263478740408408"
            ]
          },
          "metadata": {},
          "execution_count": 39
        }
      ]
    },
    {
      "cell_type": "code",
      "source": [
        "stats.norm.ppf(q=0.997)"
      ],
      "metadata": {
        "id": "iHJUoVnkgMm2",
        "outputId": "40fe267a-c91d-45e9-c3a8-9c842047978e",
        "colab": {
          "base_uri": "https://localhost:8080/"
        }
      },
      "id": "iHJUoVnkgMm2",
      "execution_count": 40,
      "outputs": [
        {
          "output_type": "execute_result",
          "data": {
            "text/plain": [
              "2.7477813854449926"
            ]
          },
          "metadata": {},
          "execution_count": 40
        }
      ]
    },
    {
      "cell_type": "code",
      "source": [
        "margin_of_error = stats.norm.ppf(0.975)\n",
        "margin_of_error"
      ],
      "metadata": {
        "id": "fFGvgXSsrkg_",
        "outputId": "8bc77c0d-64b1-4716-e24e-eb0fa0c338c6",
        "colab": {
          "base_uri": "https://localhost:8080/"
        }
      },
      "id": "fFGvgXSsrkg_",
      "execution_count": 41,
      "outputs": [
        {
          "output_type": "execute_result",
          "data": {
            "text/plain": [
              "1.959963984540054"
            ]
          },
          "metadata": {},
          "execution_count": 41
        }
      ]
    },
    {
      "cell_type": "code",
      "execution_count": 42,
      "id": "e849e051",
      "metadata": {
        "id": "e849e051"
      },
      "outputs": [],
      "source": [
        "z_critical = stats.norm.ppf(q=0.975)\n"
      ]
    },
    {
      "cell_type": "code",
      "execution_count": 43,
      "id": "a8856a18",
      "metadata": {
        "id": "a8856a18"
      },
      "outputs": [],
      "source": [
        "t_critical = stats.t.ppf(q=0.975,df=24)"
      ]
    },
    {
      "cell_type": "code",
      "execution_count": 44,
      "id": "58723886",
      "metadata": {
        "id": "58723886"
      },
      "outputs": [],
      "source": [
        "margin_of_error = z_critical * (np.std(mean_of_samples)/np.sqrt(20))"
      ]
    },
    {
      "cell_type": "code",
      "execution_count": 45,
      "id": "d0166872",
      "metadata": {
        "id": "d0166872",
        "outputId": "a1844e2e-e2c7-40df-d6bf-18e7b420404a",
        "colab": {
          "base_uri": "https://localhost:8080/"
        }
      },
      "outputs": [
        {
          "output_type": "execute_result",
          "data": {
            "text/plain": [
              "14.62326885619288"
            ]
          },
          "metadata": {},
          "execution_count": 45
        }
      ],
      "source": [
        "np.mean(mean_of_samples)-margin_of_error"
      ]
    },
    {
      "cell_type": "code",
      "execution_count": 46,
      "id": "cbb14e79",
      "metadata": {
        "id": "cbb14e79",
        "outputId": "579c47be-442f-419e-d73c-a458e46fbaaf",
        "colab": {
          "base_uri": "https://localhost:8080/"
        }
      },
      "outputs": [
        {
          "output_type": "execute_result",
          "data": {
            "text/plain": [
              "15.026731143807119"
            ]
          },
          "metadata": {},
          "execution_count": 46
        }
      ],
      "source": [
        "np.mean(mean_of_samples)+margin_of_error"
      ]
    },
    {
      "cell_type": "markdown",
      "id": "ccb8f1e4",
      "metadata": {
        "id": "ccb8f1e4"
      },
      "source": [
        "# Z-test"
      ]
    },
    {
      "cell_type": "code",
      "execution_count": 47,
      "id": "b3992238",
      "metadata": {
        "id": "b3992238"
      },
      "outputs": [],
      "source": [
        "from numpy.random import randn\n",
        "population=randn(100)\n"
      ]
    },
    {
      "cell_type": "code",
      "execution_count": 48,
      "id": "d9b4a194",
      "metadata": {
        "id": "d9b4a194",
        "outputId": "04ab6788-f240-48a0-87ce-0adb3b7eaee6",
        "colab": {
          "base_uri": "https://localhost:8080/"
        }
      },
      "outputs": [
        {
          "output_type": "execute_result",
          "data": {
            "text/plain": [
              "array([-0.94631933,  1.62857753, -0.36800974, -0.1991337 , -0.33416308,\n",
              "       -1.16867558,  0.42413865, -0.02943487, -0.24024641, -0.21319572,\n",
              "       -0.09506111,  1.21549978,  0.13572925,  0.00358746,  0.6004316 ,\n",
              "       -0.39053709,  0.67791392,  0.42472015, -0.04963388,  0.30397859,\n",
              "       -0.54986153, -1.71292549, -2.053003  , -1.52906414,  0.67924158,\n",
              "       -1.10188364, -0.09937459, -1.02250635,  0.28723619,  0.03426998,\n",
              "       -0.25361528,  0.41739644, -1.09262918, -0.37182033, -0.76423922,\n",
              "       -0.60367508,  0.06492296, -0.99687232,  0.46350366,  0.24965841,\n",
              "        0.85326622,  0.86476617,  0.78453176, -1.01777494,  0.319266  ,\n",
              "        0.20320016, -0.33348416,  0.71307737,  1.99913314,  0.46497852,\n",
              "        1.13299737, -1.17885407, -0.7483724 ,  0.79348651, -0.20762236,\n",
              "        0.38541294,  0.7656245 , -0.20957793, -0.85135718, -0.98098279,\n",
              "       -0.54411413,  2.18942104, -0.85860125, -0.16988654, -0.87087248,\n",
              "       -0.69079809, -0.50571892, -1.02576891, -1.07679183,  0.79116699,\n",
              "        0.3281003 ,  0.08125079, -0.70699977, -0.62183541,  1.33010548,\n",
              "        0.20028745,  1.83957056, -0.22775462,  0.44104495,  1.09876767,\n",
              "       -0.81946285,  0.7645022 ,  1.44348486,  1.30397192, -0.25490204,\n",
              "        1.08559089, -0.86566693,  0.82314997, -1.32002846, -0.85496563,\n",
              "        0.61923971, -0.0315588 , -1.9451111 ,  0.56115355, -1.18630791,\n",
              "       -0.77802527,  0.00731451,  0.04712981,  0.42479507,  0.23270647])"
            ]
          },
          "metadata": {},
          "execution_count": 48
        }
      ],
      "source": [
        "population"
      ]
    },
    {
      "cell_type": "code",
      "execution_count": 49,
      "id": "883c6025",
      "metadata": {
        "id": "883c6025",
        "outputId": "aa999a58-b357-44e1-a3ef-273d2baf44e8",
        "colab": {
          "base_uri": "https://localhost:8080/",
          "height": 473
        }
      },
      "outputs": [
        {
          "output_type": "stream",
          "name": "stderr",
          "text": [
            "<ipython-input-49-8d1caca3cc70>:1: UserWarning: \n",
            "\n",
            "`distplot` is a deprecated function and will be removed in seaborn v0.14.0.\n",
            "\n",
            "Please adapt your code to use either `displot` (a figure-level function with\n",
            "similar flexibility) or `histplot` (an axes-level function for histograms).\n",
            "\n",
            "For a guide to updating your code to use the new functions, please see\n",
            "https://gist.github.com/mwaskom/de44147ed2974457ad6372750bbe5751\n",
            "\n",
            "  sns.distplot(population)\n"
          ]
        },
        {
          "output_type": "execute_result",
          "data": {
            "text/plain": [
              "<Axes: ylabel='Density'>"
            ]
          },
          "metadata": {},
          "execution_count": 49
        },
        {
          "output_type": "display_data",
          "data": {
            "text/plain": [
              "<Figure size 432x288 with 1 Axes>"
            ],
            "image/png": "[encoded data removed]"
          },
          "metadata": {
            "needs_background": "light"
          }
        }
      ],
      "source": [
        "sns.distplot(population)"
      ]
    },
    {
      "cell_type": "code",
      "execution_count": 50,
      "id": "148f4652",
      "metadata": {
        "id": "148f4652",
        "outputId": "4b3b5a10-26ff-4b54-8823-19899d527818",
        "colab": {
          "base_uri": "https://localhost:8080/"
        }
      },
      "outputs": [
        {
          "output_type": "stream",
          "name": "stdout",
          "text": [
            "here is a mean of the population: -0.04565776441213125,here is a std dev 0.8581970814145675\n"
          ]
        }
      ],
      "source": [
        "print(f\"here is a mean of the population: {np.mean(population)},here is a std dev {np.std(population)}\")"
      ]
    },
    {
      "cell_type": "code",
      "execution_count": 51,
      "id": "27df3f2a",
      "metadata": {
        "id": "27df3f2a"
      },
      "outputs": [],
      "source": [
        "null_mean= 0.022"
      ]
    },
    {
      "cell_type": "code",
      "execution_count": 52,
      "id": "97972d5d",
      "metadata": {
        "id": "97972d5d"
      },
      "outputs": [],
      "source": [
        "#C.I=0.95 95%\n",
        "#ALPHA=0.05 5%"
      ]
    },
    {
      "cell_type": "code",
      "execution_count": 53,
      "id": "59d9a228",
      "metadata": {
        "id": "59d9a228"
      },
      "outputs": [],
      "source": [
        "#P<=0.05#REJECT THE NULL HYPHOTHESIS\n",
        "#P>0.05 #YOU ARE GOING TO ACCEPT THE NULL HYPHOTEIS"
      ]
    },
    {
      "cell_type": "code",
      "execution_count": 54,
      "id": "a0984e13",
      "metadata": {
        "id": "a0984e13"
      },
      "outputs": [],
      "source": [
        "#P<=ALPHA\n",
        "#P>ALPHA"
      ]
    },
    {
      "cell_type": "code",
      "execution_count": 55,
      "id": "ef9914cc",
      "metadata": {
        "id": "ef9914cc"
      },
      "outputs": [],
      "source": [
        "#p_value=0.05\n",
        "ALPHA=0.05"
      ]
    },
    {
      "cell_type": "code",
      "execution_count": 56,
      "id": "a923b1c9",
      "metadata": {
        "id": "a923b1c9"
      },
      "outputs": [],
      "source": [
        "from statsmodels.stats.weightstats import ztest\n",
        "z_score,p_value=ztest(population,value=null_mean,alternative='larger')"
      ]
    },
    {
      "cell_type": "code",
      "execution_count": 57,
      "id": "9aec38a5",
      "metadata": {
        "id": "9aec38a5",
        "outputId": "05c3ea78-7f81-427a-f54d-88da916e1488",
        "colab": {
          "base_uri": "https://localhost:8080/"
        }
      },
      "outputs": [
        {
          "output_type": "execute_result",
          "data": {
            "text/plain": [
              "-0.7844191861131544"
            ]
          },
          "metadata": {},
          "execution_count": 57
        }
      ],
      "source": [
        "z_score"
      ]
    },
    {
      "cell_type": "code",
      "execution_count": 58,
      "id": "f40bb87d",
      "metadata": {
        "id": "f40bb87d",
        "outputId": "504258fa-873b-4ba4-b87e-09c93e8a9c18",
        "colab": {
          "base_uri": "https://localhost:8080/"
        }
      },
      "outputs": [
        {
          "output_type": "execute_result",
          "data": {
            "text/plain": [
              "0.7836029079239492"
            ]
          },
          "metadata": {},
          "execution_count": 58
        }
      ],
      "source": [
        "p_value"
      ]
    },
    {
      "cell_type": "code",
      "execution_count": 59,
      "id": "cd8e4f68",
      "metadata": {
        "id": "cd8e4f68",
        "outputId": "f95f2fa2-ad4b-458d-89dd-538d7b54dfc4",
        "colab": {
          "base_uri": "https://localhost:8080/"
        }
      },
      "outputs": [
        {
          "output_type": "stream",
          "name": "stdout",
          "text": [
            "we are going to accpept the null hyphothesis\n"
          ]
        }
      ],
      "source": [
        "if (p_value<ALPHA):\n",
        "    print(\"reject the null hyphothesis\")\n",
        "else:\n",
        "    print(\"we are going to accpept the null hyphothesis\")\n",
        "    "
      ]
    }
  ],
  "metadata": {
    "kernelspec": {
      "display_name": "Python 3 (ipykernel)",
      "language": "python",
      "name": "python3"
    },
    "language_info": {
      "codemirror_mode": {
        "name": "ipython",
        "version": 3
      },
      "file_extension": ".py",
      "mimetype": "text/x-python",
      "name": "python",
      "nbconvert_exporter": "python",
      "pygments_lexer": "ipython3",
      "version": "3.9.7"
    },
    "colab": {
      "provenance": []
    }
  },
  "nbformat": 4,
  "nbformat_minor": 5
}